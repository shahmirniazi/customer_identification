{
 "cells": [
  {
   "cell_type": "markdown",
   "metadata": {
    "id": "W-KMxxJwhfEL"
   },
   "source": [
    "# "
   ]
  },
  {
   "cell_type": "markdown",
   "metadata": {
    "id": "qhvhXZLSh-_E"
   },
   "source": [
    "## General Information"
   ]
  },
  {
   "cell_type": "markdown",
   "metadata": {
    "id": "IScOIprWoLpr"
   },
   "source": [
    "✅ Goal: Using AI and ML, help the bank identify customers with highest potential to accept term deposit hours\n"
   ]
  },
  {
   "cell_type": "markdown",
   "metadata": {
    "id": "gHMEGXwZiDgY"
   },
   "source": [
    "### Models to be used:\n",
    "- **Logistic Regression**: Logistic regression is a popular model for binary classification tasks. It models the probability that a given input belongs to a certain class (0 or 1) using the logistic function.\n",
    "\n",
    "- **Decision Trees**: Decision trees can be used for binary classification by splitting the feature space into regions based on the input features. Each region corresponds to a predicted class label (0 or 1).\n",
    "\n",
    "- **Random Forest**: Random forest is an ensemble learning technique that consists of multiple decision trees. It can be used for binary classification tasks by aggregating the predictions of multiple decision trees.\n",
    "\n",
    "- **Support Vector Machines (SVM)**: SVM is a powerful algorithm for binary classification tasks. It works by finding the hyperplane that best separates the data points of different classes in the feature space.\n",
    "\n",
    "- **Gradient Boosting Machines (GBM)**: GBM is an ensemble learning technique that builds multiple weak learners sequentially to improve predictive performance. It can be used for binary classification tasks and is known for its high accuracy.\n"
   ]
  },
  {
   "cell_type": "markdown",
   "metadata": {
    "id": "C64315Q7lxy6"
   },
   "source": [
    "## Library Import\n",
    "\n",
    "\n",
    "\n",
    "\n"
   ]
  },
  {
   "cell_type": "code",
   "execution_count": 5,
   "metadata": {
    "id": "kIlLsG_fl58b"
   },
   "outputs": [],
   "source": [
    "import pandas as pd\n",
    "import io\n",
    "import matplotlib.pyplot as plt\n",
    "import seaborn as sns\n",
    "import statsmodels.api as sm\n",
    "from sklearn.model_selection import train_test_split\n"
   ]
  },
  {
   "cell_type": "markdown",
   "metadata": {
    "id": "tioIbtTSlD1F"
   },
   "source": [
    "## Data Import\n",
    "\n"
   ]
  },
  {
   "cell_type": "code",
   "execution_count": 6,
   "metadata": {
    "colab": {
     "base_uri": "https://localhost:8080/",
     "height": 255
    },
    "id": "MScnxNa7j5MV",
    "outputId": "0f7e6b24-a591-4dbb-de1c-b09ca521c6e0"
   },
   "outputs": [
    {
     "data": {
      "text/html": [
       "<div>\n",
       "<style scoped>\n",
       "    .dataframe tbody tr th:only-of-type {\n",
       "        vertical-align: middle;\n",
       "    }\n",
       "\n",
       "    .dataframe tbody tr th {\n",
       "        vertical-align: top;\n",
       "    }\n",
       "\n",
       "    .dataframe thead th {\n",
       "        text-align: right;\n",
       "    }\n",
       "</style>\n",
       "<table border=\"1\" class=\"dataframe\">\n",
       "  <thead>\n",
       "    <tr style=\"text-align: right;\">\n",
       "      <th></th>\n",
       "      <th>age</th>\n",
       "      <th>job</th>\n",
       "      <th>marital</th>\n",
       "      <th>education</th>\n",
       "      <th>default</th>\n",
       "      <th>housing</th>\n",
       "      <th>loan</th>\n",
       "      <th>contact</th>\n",
       "      <th>month</th>\n",
       "      <th>day_of_week</th>\n",
       "      <th>...</th>\n",
       "      <th>campaign</th>\n",
       "      <th>pdays</th>\n",
       "      <th>previous</th>\n",
       "      <th>poutcome</th>\n",
       "      <th>emp.var.rate</th>\n",
       "      <th>cons.price.idx</th>\n",
       "      <th>cons.conf.idx</th>\n",
       "      <th>euribor3m</th>\n",
       "      <th>nr.employed</th>\n",
       "      <th>y</th>\n",
       "    </tr>\n",
       "  </thead>\n",
       "  <tbody>\n",
       "    <tr>\n",
       "      <th>0</th>\n",
       "      <td>56</td>\n",
       "      <td>housemaid</td>\n",
       "      <td>married</td>\n",
       "      <td>basic.4y</td>\n",
       "      <td>no</td>\n",
       "      <td>no</td>\n",
       "      <td>no</td>\n",
       "      <td>telephone</td>\n",
       "      <td>may</td>\n",
       "      <td>mon</td>\n",
       "      <td>...</td>\n",
       "      <td>1</td>\n",
       "      <td>999</td>\n",
       "      <td>0</td>\n",
       "      <td>nonexistent</td>\n",
       "      <td>1.1</td>\n",
       "      <td>93.994</td>\n",
       "      <td>-36.4</td>\n",
       "      <td>4.857</td>\n",
       "      <td>5191.0</td>\n",
       "      <td>no</td>\n",
       "    </tr>\n",
       "    <tr>\n",
       "      <th>1</th>\n",
       "      <td>57</td>\n",
       "      <td>services</td>\n",
       "      <td>married</td>\n",
       "      <td>high.school</td>\n",
       "      <td>unknown</td>\n",
       "      <td>no</td>\n",
       "      <td>no</td>\n",
       "      <td>telephone</td>\n",
       "      <td>may</td>\n",
       "      <td>mon</td>\n",
       "      <td>...</td>\n",
       "      <td>1</td>\n",
       "      <td>999</td>\n",
       "      <td>0</td>\n",
       "      <td>nonexistent</td>\n",
       "      <td>1.1</td>\n",
       "      <td>93.994</td>\n",
       "      <td>-36.4</td>\n",
       "      <td>4.857</td>\n",
       "      <td>5191.0</td>\n",
       "      <td>no</td>\n",
       "    </tr>\n",
       "    <tr>\n",
       "      <th>2</th>\n",
       "      <td>37</td>\n",
       "      <td>services</td>\n",
       "      <td>married</td>\n",
       "      <td>high.school</td>\n",
       "      <td>no</td>\n",
       "      <td>yes</td>\n",
       "      <td>no</td>\n",
       "      <td>telephone</td>\n",
       "      <td>may</td>\n",
       "      <td>mon</td>\n",
       "      <td>...</td>\n",
       "      <td>1</td>\n",
       "      <td>999</td>\n",
       "      <td>0</td>\n",
       "      <td>nonexistent</td>\n",
       "      <td>1.1</td>\n",
       "      <td>93.994</td>\n",
       "      <td>-36.4</td>\n",
       "      <td>4.857</td>\n",
       "      <td>5191.0</td>\n",
       "      <td>no</td>\n",
       "    </tr>\n",
       "    <tr>\n",
       "      <th>3</th>\n",
       "      <td>40</td>\n",
       "      <td>admin.</td>\n",
       "      <td>married</td>\n",
       "      <td>basic.6y</td>\n",
       "      <td>no</td>\n",
       "      <td>no</td>\n",
       "      <td>no</td>\n",
       "      <td>telephone</td>\n",
       "      <td>may</td>\n",
       "      <td>mon</td>\n",
       "      <td>...</td>\n",
       "      <td>1</td>\n",
       "      <td>999</td>\n",
       "      <td>0</td>\n",
       "      <td>nonexistent</td>\n",
       "      <td>1.1</td>\n",
       "      <td>93.994</td>\n",
       "      <td>-36.4</td>\n",
       "      <td>4.857</td>\n",
       "      <td>5191.0</td>\n",
       "      <td>no</td>\n",
       "    </tr>\n",
       "    <tr>\n",
       "      <th>4</th>\n",
       "      <td>56</td>\n",
       "      <td>services</td>\n",
       "      <td>married</td>\n",
       "      <td>high.school</td>\n",
       "      <td>no</td>\n",
       "      <td>no</td>\n",
       "      <td>yes</td>\n",
       "      <td>telephone</td>\n",
       "      <td>may</td>\n",
       "      <td>mon</td>\n",
       "      <td>...</td>\n",
       "      <td>1</td>\n",
       "      <td>999</td>\n",
       "      <td>0</td>\n",
       "      <td>nonexistent</td>\n",
       "      <td>1.1</td>\n",
       "      <td>93.994</td>\n",
       "      <td>-36.4</td>\n",
       "      <td>4.857</td>\n",
       "      <td>5191.0</td>\n",
       "      <td>no</td>\n",
       "    </tr>\n",
       "  </tbody>\n",
       "</table>\n",
       "<p>5 rows × 21 columns</p>\n",
       "</div>"
      ],
      "text/plain": [
       "   age        job  marital    education  default housing loan    contact  \\\n",
       "0   56  housemaid  married     basic.4y       no      no   no  telephone   \n",
       "1   57   services  married  high.school  unknown      no   no  telephone   \n",
       "2   37   services  married  high.school       no     yes   no  telephone   \n",
       "3   40     admin.  married     basic.6y       no      no   no  telephone   \n",
       "4   56   services  married  high.school       no      no  yes  telephone   \n",
       "\n",
       "  month day_of_week  ...  campaign  pdays  previous     poutcome emp.var.rate  \\\n",
       "0   may         mon  ...         1    999         0  nonexistent          1.1   \n",
       "1   may         mon  ...         1    999         0  nonexistent          1.1   \n",
       "2   may         mon  ...         1    999         0  nonexistent          1.1   \n",
       "3   may         mon  ...         1    999         0  nonexistent          1.1   \n",
       "4   may         mon  ...         1    999         0  nonexistent          1.1   \n",
       "\n",
       "   cons.price.idx  cons.conf.idx  euribor3m  nr.employed   y  \n",
       "0          93.994          -36.4      4.857       5191.0  no  \n",
       "1          93.994          -36.4      4.857       5191.0  no  \n",
       "2          93.994          -36.4      4.857       5191.0  no  \n",
       "3          93.994          -36.4      4.857       5191.0  no  \n",
       "4          93.994          -36.4      4.857       5191.0  no  \n",
       "\n",
       "[5 rows x 21 columns]"
      ]
     },
     "execution_count": 6,
     "metadata": {},
     "output_type": "execute_result"
    }
   ],
   "source": [
    "#Assign data to a dataframe\n",
    "df = pd.read_csv('bank-additional-full.csv', sep= \";\")\n",
    "df.head()"
   ]
  },
  {
   "cell_type": "markdown",
   "metadata": {
    "id": "na2wvNRwnsE6"
   },
   "source": [
    "## Data Exploration and Cleaning"
   ]
  },
  {
   "cell_type": "code",
   "execution_count": 7,
   "metadata": {
    "colab": {
     "base_uri": "https://localhost:8080/",
     "height": 536
    },
    "id": "ttVGwnPjmER4",
    "outputId": "d7aa381c-89b1-41a0-88bc-09746fe4a19f"
   },
   "outputs": [
    {
     "data": {
      "text/plain": [
       "<Axes: >"
      ]
     },
     "execution_count": 7,
     "metadata": {},
     "output_type": "execute_result"
    },
    {
     "data": {
      "image/png": "[encoded data removed]",
      "text/plain": [
       "<Figure size 432x288 with 1 Axes>"
      ]
     },
     "metadata": {
      "needs_background": "light"
     },
     "output_type": "display_data"
    }
   ],
   "source": [
    "#Check for Null Values\n",
    "sns.heatmap(df.isnull(), cmap = \"viridis\", cbar = False)"
   ]
  },
  {
   "cell_type": "code",
   "execution_count": 8,
   "metadata": {
    "colab": {
     "base_uri": "https://localhost:8080/"
    },
    "id": "OrdNASlWb9fl",
    "outputId": "1d7a2dbc-9773-4970-aa6c-fd553c02a720"
   },
   "outputs": [
    {
     "name": "stdout",
     "output_type": "stream",
     "text": [
      "{'job': ['housemaid', 'services', 'admin.', 'blue-collar', 'technician', 'retired', 'management', 'unemployed', 'self-employed', 'unknown', 'entrepreneur', 'student'], 'marital': ['married', 'single', 'divorced', 'unknown'], 'education': ['basic.4y', 'high.school', 'basic.6y', 'basic.9y', 'professional.course', 'unknown', 'university.degree', 'illiterate'], 'default': ['no', 'unknown', 'yes'], 'housing': ['no', 'yes', 'unknown'], 'loan': ['no', 'yes', 'unknown'], 'contact': ['telephone', 'cellular'], 'month': ['may', 'jun', 'jul', 'aug', 'oct', 'nov', 'dec', 'mar', 'apr', 'sep'], 'day_of_week': ['mon', 'tue', 'wed', 'thu', 'fri'], 'poutcome': ['nonexistent', 'failure', 'success'], 'y': ['no', 'yes']}\n"
     ]
    }
   ],
   "source": [
    "unique_values_dict = {}\n",
    "\n",
    "# Iterate through columns in the DataFrame\n",
    "for column in df.columns:\n",
    "    # Check if the column dtype is 'object'\n",
    "    if df[column].dtype == 'object':\n",
    "        # Get unique values for each object column\n",
    "        unique_values = df[column].unique().tolist()\n",
    "        # Store unique values in the dictionary\n",
    "        unique_values_dict[column] = unique_values\n",
    "\n",
    "print(unique_values_dict)\n"
   ]
  },
  {
   "cell_type": "markdown",
   "metadata": {
    "id": "0zOixKsAm6ge"
   },
   "source": [
    "**The color purple denotes instances of non-null data, and since purple is the only color being shown, THERE IS NO MISSING DATA**"
   ]
  },
  {
   "cell_type": "markdown",
   "metadata": {
    "id": "xlIGeIvCndyB"
   },
   "source": [
    "**The High Quantity of Object datatypes shows that we're gonna have to create dummy variables at some point**"
   ]
  },
  {
   "cell_type": "markdown",
   "metadata": {
    "id": "nxYlCPGQ7bIF"
   },
   "source": [
    "## Dummy Variable Creation"
   ]
  },
  {
   "cell_type": "code",
   "execution_count": 10,
   "metadata": {
    "id": "euRb-2FD7eoV"
   },
   "outputs": [],
   "source": [
    "df_dummy = df_drop.copy()\n",
    "\n",
    "# Iterate through columns in the DataFrame\n",
    "for column in df_drop.columns:\n",
    "    # Check if the column dtype is 'object'\n",
    "    if df_drop[column].dtype == 'object':\n",
    "        # Create dummy variables for the object column with drop_first=True\n",
    "        dummy_columns = pd.get_dummies(df_drop[column], prefix=column, drop_first=True, dtype = \"float\")\n",
    "        # Concatenate the dummy columns to the new DataFrame\n",
    "        df_dummy = pd.concat([df_dummy, dummy_columns], axis=1)\n",
    "        # Drop the original object column from the new DataFrame\n",
    "        df_dummy.drop(column, axis=1, inplace=True)"
   ]
  },
  {
   "cell_type": "code",
   "execution_count": 11,
   "metadata": {
    "colab": {
     "base_uri": "https://localhost:8080/",
     "height": 443
    },
    "id": "2fBLr00M7hCt",
    "outputId": "f553ced3-2125-46c8-cdbf-87655a81f656"
   },
   "outputs": [
    {
     "data": {
      "text/html": [
       "<div>\n",
       "<style scoped>\n",
       "    .dataframe tbody tr th:only-of-type {\n",
       "        vertical-align: middle;\n",
       "    }\n",
       "\n",
       "    .dataframe tbody tr th {\n",
       "        vertical-align: top;\n",
       "    }\n",
       "\n",
       "    .dataframe thead th {\n",
       "        text-align: right;\n",
       "    }\n",
       "</style>\n",
       "<table border=\"1\" class=\"dataframe\">\n",
       "  <thead>\n",
       "    <tr style=\"text-align: right;\">\n",
       "      <th></th>\n",
       "      <th>age</th>\n",
       "      <th>duration</th>\n",
       "      <th>campaign</th>\n",
       "      <th>pdays</th>\n",
       "      <th>previous</th>\n",
       "      <th>emp.var.rate</th>\n",
       "      <th>cons.price.idx</th>\n",
       "      <th>cons.conf.idx</th>\n",
       "      <th>euribor3m</th>\n",
       "      <th>nr.employed</th>\n",
       "      <th>...</th>\n",
       "      <th>month_oct</th>\n",
       "      <th>month_sep</th>\n",
       "      <th>day_of_week_fri</th>\n",
       "      <th>day_of_week_mon</th>\n",
       "      <th>day_of_week_thu</th>\n",
       "      <th>day_of_week_tue</th>\n",
       "      <th>day_of_week_wed</th>\n",
       "      <th>poutcome_nonexistent</th>\n",
       "      <th>poutcome_success</th>\n",
       "      <th>y_yes</th>\n",
       "    </tr>\n",
       "  </thead>\n",
       "  <tbody>\n",
       "    <tr>\n",
       "      <th>0</th>\n",
       "      <td>56</td>\n",
       "      <td>261</td>\n",
       "      <td>1</td>\n",
       "      <td>999</td>\n",
       "      <td>0</td>\n",
       "      <td>1.1</td>\n",
       "      <td>93.994</td>\n",
       "      <td>-36.4</td>\n",
       "      <td>4.857</td>\n",
       "      <td>5191.0</td>\n",
       "      <td>...</td>\n",
       "      <td>0.0</td>\n",
       "      <td>0.0</td>\n",
       "      <td>0.0</td>\n",
       "      <td>0.0</td>\n",
       "      <td>0.0</td>\n",
       "      <td>0.0</td>\n",
       "      <td>0.0</td>\n",
       "      <td>1.0</td>\n",
       "      <td>0.0</td>\n",
       "      <td>0.0</td>\n",
       "    </tr>\n",
       "    <tr>\n",
       "      <th>1</th>\n",
       "      <td>57</td>\n",
       "      <td>149</td>\n",
       "      <td>1</td>\n",
       "      <td>999</td>\n",
       "      <td>0</td>\n",
       "      <td>1.1</td>\n",
       "      <td>93.994</td>\n",
       "      <td>-36.4</td>\n",
       "      <td>4.857</td>\n",
       "      <td>5191.0</td>\n",
       "      <td>...</td>\n",
       "      <td>0.0</td>\n",
       "      <td>0.0</td>\n",
       "      <td>0.0</td>\n",
       "      <td>0.0</td>\n",
       "      <td>0.0</td>\n",
       "      <td>0.0</td>\n",
       "      <td>0.0</td>\n",
       "      <td>1.0</td>\n",
       "      <td>0.0</td>\n",
       "      <td>0.0</td>\n",
       "    </tr>\n",
       "    <tr>\n",
       "      <th>2</th>\n",
       "      <td>37</td>\n",
       "      <td>226</td>\n",
       "      <td>1</td>\n",
       "      <td>999</td>\n",
       "      <td>0</td>\n",
       "      <td>1.1</td>\n",
       "      <td>93.994</td>\n",
       "      <td>-36.4</td>\n",
       "      <td>4.857</td>\n",
       "      <td>5191.0</td>\n",
       "      <td>...</td>\n",
       "      <td>0.0</td>\n",
       "      <td>0.0</td>\n",
       "      <td>0.0</td>\n",
       "      <td>0.0</td>\n",
       "      <td>0.0</td>\n",
       "      <td>0.0</td>\n",
       "      <td>0.0</td>\n",
       "      <td>1.0</td>\n",
       "      <td>0.0</td>\n",
       "      <td>0.0</td>\n",
       "    </tr>\n",
       "    <tr>\n",
       "      <th>3</th>\n",
       "      <td>40</td>\n",
       "      <td>151</td>\n",
       "      <td>1</td>\n",
       "      <td>999</td>\n",
       "      <td>0</td>\n",
       "      <td>1.1</td>\n",
       "      <td>93.994</td>\n",
       "      <td>-36.4</td>\n",
       "      <td>4.857</td>\n",
       "      <td>5191.0</td>\n",
       "      <td>...</td>\n",
       "      <td>0.0</td>\n",
       "      <td>0.0</td>\n",
       "      <td>0.0</td>\n",
       "      <td>0.0</td>\n",
       "      <td>0.0</td>\n",
       "      <td>0.0</td>\n",
       "      <td>0.0</td>\n",
       "      <td>1.0</td>\n",
       "      <td>0.0</td>\n",
       "      <td>0.0</td>\n",
       "    </tr>\n",
       "    <tr>\n",
       "      <th>4</th>\n",
       "      <td>56</td>\n",
       "      <td>307</td>\n",
       "      <td>1</td>\n",
       "      <td>999</td>\n",
       "      <td>0</td>\n",
       "      <td>1.1</td>\n",
       "      <td>93.994</td>\n",
       "      <td>-36.4</td>\n",
       "      <td>4.857</td>\n",
       "      <td>5191.0</td>\n",
       "      <td>...</td>\n",
       "      <td>0.0</td>\n",
       "      <td>0.0</td>\n",
       "      <td>0.0</td>\n",
       "      <td>0.0</td>\n",
       "      <td>0.0</td>\n",
       "      <td>0.0</td>\n",
       "      <td>0.0</td>\n",
       "      <td>1.0</td>\n",
       "      <td>0.0</td>\n",
       "      <td>0.0</td>\n",
       "    </tr>\n",
       "    <tr>\n",
       "      <th>...</th>\n",
       "      <td>...</td>\n",
       "      <td>...</td>\n",
       "      <td>...</td>\n",
       "      <td>...</td>\n",
       "      <td>...</td>\n",
       "      <td>...</td>\n",
       "      <td>...</td>\n",
       "      <td>...</td>\n",
       "      <td>...</td>\n",
       "      <td>...</td>\n",
       "      <td>...</td>\n",
       "      <td>...</td>\n",
       "      <td>...</td>\n",
       "      <td>...</td>\n",
       "      <td>...</td>\n",
       "      <td>...</td>\n",
       "      <td>...</td>\n",
       "      <td>...</td>\n",
       "      <td>...</td>\n",
       "      <td>...</td>\n",
       "      <td>...</td>\n",
       "    </tr>\n",
       "    <tr>\n",
       "      <th>41183</th>\n",
       "      <td>73</td>\n",
       "      <td>334</td>\n",
       "      <td>1</td>\n",
       "      <td>999</td>\n",
       "      <td>0</td>\n",
       "      <td>-1.1</td>\n",
       "      <td>94.767</td>\n",
       "      <td>-50.8</td>\n",
       "      <td>1.028</td>\n",
       "      <td>4963.6</td>\n",
       "      <td>...</td>\n",
       "      <td>0.0</td>\n",
       "      <td>0.0</td>\n",
       "      <td>0.0</td>\n",
       "      <td>0.0</td>\n",
       "      <td>0.0</td>\n",
       "      <td>0.0</td>\n",
       "      <td>0.0</td>\n",
       "      <td>1.0</td>\n",
       "      <td>0.0</td>\n",
       "      <td>1.0</td>\n",
       "    </tr>\n",
       "    <tr>\n",
       "      <th>41184</th>\n",
       "      <td>46</td>\n",
       "      <td>383</td>\n",
       "      <td>1</td>\n",
       "      <td>999</td>\n",
       "      <td>0</td>\n",
       "      <td>-1.1</td>\n",
       "      <td>94.767</td>\n",
       "      <td>-50.8</td>\n",
       "      <td>1.028</td>\n",
       "      <td>4963.6</td>\n",
       "      <td>...</td>\n",
       "      <td>0.0</td>\n",
       "      <td>0.0</td>\n",
       "      <td>0.0</td>\n",
       "      <td>0.0</td>\n",
       "      <td>0.0</td>\n",
       "      <td>0.0</td>\n",
       "      <td>0.0</td>\n",
       "      <td>1.0</td>\n",
       "      <td>0.0</td>\n",
       "      <td>0.0</td>\n",
       "    </tr>\n",
       "    <tr>\n",
       "      <th>41185</th>\n",
       "      <td>56</td>\n",
       "      <td>189</td>\n",
       "      <td>2</td>\n",
       "      <td>999</td>\n",
       "      <td>0</td>\n",
       "      <td>-1.1</td>\n",
       "      <td>94.767</td>\n",
       "      <td>-50.8</td>\n",
       "      <td>1.028</td>\n",
       "      <td>4963.6</td>\n",
       "      <td>...</td>\n",
       "      <td>0.0</td>\n",
       "      <td>0.0</td>\n",
       "      <td>0.0</td>\n",
       "      <td>0.0</td>\n",
       "      <td>0.0</td>\n",
       "      <td>0.0</td>\n",
       "      <td>0.0</td>\n",
       "      <td>1.0</td>\n",
       "      <td>0.0</td>\n",
       "      <td>0.0</td>\n",
       "    </tr>\n",
       "    <tr>\n",
       "      <th>41186</th>\n",
       "      <td>44</td>\n",
       "      <td>442</td>\n",
       "      <td>1</td>\n",
       "      <td>999</td>\n",
       "      <td>0</td>\n",
       "      <td>-1.1</td>\n",
       "      <td>94.767</td>\n",
       "      <td>-50.8</td>\n",
       "      <td>1.028</td>\n",
       "      <td>4963.6</td>\n",
       "      <td>...</td>\n",
       "      <td>0.0</td>\n",
       "      <td>0.0</td>\n",
       "      <td>0.0</td>\n",
       "      <td>0.0</td>\n",
       "      <td>0.0</td>\n",
       "      <td>0.0</td>\n",
       "      <td>0.0</td>\n",
       "      <td>1.0</td>\n",
       "      <td>0.0</td>\n",
       "      <td>1.0</td>\n",
       "    </tr>\n",
       "    <tr>\n",
       "      <th>41187</th>\n",
       "      <td>74</td>\n",
       "      <td>239</td>\n",
       "      <td>3</td>\n",
       "      <td>999</td>\n",
       "      <td>1</td>\n",
       "      <td>-1.1</td>\n",
       "      <td>94.767</td>\n",
       "      <td>-50.8</td>\n",
       "      <td>1.028</td>\n",
       "      <td>4963.6</td>\n",
       "      <td>...</td>\n",
       "      <td>0.0</td>\n",
       "      <td>0.0</td>\n",
       "      <td>0.0</td>\n",
       "      <td>0.0</td>\n",
       "      <td>0.0</td>\n",
       "      <td>0.0</td>\n",
       "      <td>0.0</td>\n",
       "      <td>0.0</td>\n",
       "      <td>0.0</td>\n",
       "      <td>0.0</td>\n",
       "    </tr>\n",
       "  </tbody>\n",
       "</table>\n",
       "<p>41188 rows × 56 columns</p>\n",
       "</div>"
      ],
      "text/plain": [
       "       age  duration  campaign  pdays  previous  emp.var.rate  cons.price.idx  \\\n",
       "0       56       261         1    999         0           1.1          93.994   \n",
       "1       57       149         1    999         0           1.1          93.994   \n",
       "2       37       226         1    999         0           1.1          93.994   \n",
       "3       40       151         1    999         0           1.1          93.994   \n",
       "4       56       307         1    999         0           1.1          93.994   \n",
       "...    ...       ...       ...    ...       ...           ...             ...   \n",
       "41183   73       334         1    999         0          -1.1          94.767   \n",
       "41184   46       383         1    999         0          -1.1          94.767   \n",
       "41185   56       189         2    999         0          -1.1          94.767   \n",
       "41186   44       442         1    999         0          -1.1          94.767   \n",
       "41187   74       239         3    999         1          -1.1          94.767   \n",
       "\n",
       "       cons.conf.idx  euribor3m  nr.employed  ...  month_oct  month_sep  \\\n",
       "0              -36.4      4.857       5191.0  ...        0.0        0.0   \n",
       "1              -36.4      4.857       5191.0  ...        0.0        0.0   \n",
       "2              -36.4      4.857       5191.0  ...        0.0        0.0   \n",
       "3              -36.4      4.857       5191.0  ...        0.0        0.0   \n",
       "4              -36.4      4.857       5191.0  ...        0.0        0.0   \n",
       "...              ...        ...          ...  ...        ...        ...   \n",
       "41183          -50.8      1.028       4963.6  ...        0.0        0.0   \n",
       "41184          -50.8      1.028       4963.6  ...        0.0        0.0   \n",
       "41185          -50.8      1.028       4963.6  ...        0.0        0.0   \n",
       "41186          -50.8      1.028       4963.6  ...        0.0        0.0   \n",
       "41187          -50.8      1.028       4963.6  ...        0.0        0.0   \n",
       "\n",
       "       day_of_week_fri  day_of_week_mon  day_of_week_thu  day_of_week_tue  \\\n",
       "0                  0.0              0.0              0.0              0.0   \n",
       "1                  0.0              0.0              0.0              0.0   \n",
       "2                  0.0              0.0              0.0              0.0   \n",
       "3                  0.0              0.0              0.0              0.0   \n",
       "4                  0.0              0.0              0.0              0.0   \n",
       "...                ...              ...              ...              ...   \n",
       "41183              0.0              0.0              0.0              0.0   \n",
       "41184              0.0              0.0              0.0              0.0   \n",
       "41185              0.0              0.0              0.0              0.0   \n",
       "41186              0.0              0.0              0.0              0.0   \n",
       "41187              0.0              0.0              0.0              0.0   \n",
       "\n",
       "       day_of_week_wed  poutcome_nonexistent  poutcome_success  y_yes  \n",
       "0                  0.0                   1.0               0.0    0.0  \n",
       "1                  0.0                   1.0               0.0    0.0  \n",
       "2                  0.0                   1.0               0.0    0.0  \n",
       "3                  0.0                   1.0               0.0    0.0  \n",
       "4                  0.0                   1.0               0.0    0.0  \n",
       "...                ...                   ...               ...    ...  \n",
       "41183              0.0                   1.0               0.0    1.0  \n",
       "41184              0.0                   1.0               0.0    0.0  \n",
       "41185              0.0                   1.0               0.0    0.0  \n",
       "41186              0.0                   1.0               0.0    1.0  \n",
       "41187              0.0                   0.0               0.0    0.0  \n",
       "\n",
       "[41188 rows x 56 columns]"
      ]
     },
     "execution_count": 11,
     "metadata": {},
     "output_type": "execute_result"
    }
   ],
   "source": [
    "df_dummy"
   ]
  },
  {
   "cell_type": "code",
   "execution_count": 12,
   "metadata": {
    "colab": {
     "base_uri": "https://localhost:8080/"
    },
    "id": "xs_pV74QaO4J",
    "outputId": "551e96c3-31bf-47ee-bafd-8ed862e9f3ae"
   },
   "outputs": [
    {
     "name": "stdout",
     "output_type": "stream",
     "text": [
      "<class 'pandas.core.frame.DataFrame'>\n",
      "RangeIndex: 41188 entries, 0 to 41187\n",
      "Data columns (total 56 columns):\n",
      " #   Column                         Non-Null Count  Dtype  \n",
      "---  ------                         --------------  -----  \n",
      " 0   age                            41188 non-null  int64  \n",
      " 1   duration                       41188 non-null  int64  \n",
      " 2   campaign                       41188 non-null  int64  \n",
      " 3   pdays                          41188 non-null  int64  \n",
      " 4   previous                       41188 non-null  int64  \n",
      " 5   emp.var.rate                   41188 non-null  float64\n",
      " 6   cons.price.idx                 41188 non-null  float64\n",
      " 7   cons.conf.idx                  41188 non-null  float64\n",
      " 8   euribor3m                      41188 non-null  float64\n",
      " 9   nr.employed                    41188 non-null  float64\n",
      " 10  job_blue-collar                41188 non-null  float64\n",
      " 11  job_entrepreneur               41188 non-null  float64\n",
      " 12  job_housemaid                  41188 non-null  float64\n",
      " 13  job_management                 41188 non-null  float64\n",
      " 14  job_retired                    41188 non-null  float64\n",
      " 15  job_self-employed              41188 non-null  float64\n",
      " 16  job_services                   41188 non-null  float64\n",
      " 17  job_student                    41188 non-null  float64\n",
      " 18  job_technician                 41188 non-null  float64\n",
      " 19  job_unemployed                 41188 non-null  float64\n",
      " 20  job_unknown                    41188 non-null  float64\n",
      " 21  marital_married                41188 non-null  float64\n",
      " 22  marital_single                 41188 non-null  float64\n",
      " 23  marital_unknown                41188 non-null  float64\n",
      " 24  education_basic.6y             41188 non-null  float64\n",
      " 25  education_basic.9y             41188 non-null  float64\n",
      " 26  education_high.school          41188 non-null  float64\n",
      " 27  education_illiterate           41188 non-null  float64\n",
      " 28  education_professional.course  41188 non-null  float64\n",
      " 29  education_university.degree    41188 non-null  float64\n",
      " 30  education_unknown              41188 non-null  float64\n",
      " 31  default_unknown                41188 non-null  float64\n",
      " 32  default_yes                    41188 non-null  float64\n",
      " 33  housing_unknown                41188 non-null  float64\n",
      " 34  housing_yes                    41188 non-null  float64\n",
      " 35  loan_unknown                   41188 non-null  float64\n",
      " 36  loan_yes                       41188 non-null  float64\n",
      " 37  contact_telephone              41188 non-null  float64\n",
      " 38  month_apr                      41188 non-null  float64\n",
      " 39  month_aug                      41188 non-null  float64\n",
      " 40  month_dec                      41188 non-null  float64\n",
      " 41  month_jul                      41188 non-null  float64\n",
      " 42  month_jun                      41188 non-null  float64\n",
      " 43  month_mar                      41188 non-null  float64\n",
      " 44  month_may                      41188 non-null  float64\n",
      " 45  month_nov                      41188 non-null  float64\n",
      " 46  month_oct                      41188 non-null  float64\n",
      " 47  month_sep                      41188 non-null  float64\n",
      " 48  day_of_week_fri                41188 non-null  float64\n",
      " 49  day_of_week_mon                41188 non-null  float64\n",
      " 50  day_of_week_thu                41188 non-null  float64\n",
      " 51  day_of_week_tue                41188 non-null  float64\n",
      " 52  day_of_week_wed                41188 non-null  float64\n",
      " 53  poutcome_nonexistent           41188 non-null  float64\n",
      " 54  poutcome_success               41188 non-null  float64\n",
      " 55  y_yes                          41188 non-null  float64\n",
      "dtypes: float64(51), int64(5)\n",
      "memory usage: 17.6 MB\n"
     ]
    }
   ],
   "source": [
    "df_dummy.info()"
   ]
  },
  {
   "cell_type": "code",
   "execution_count": 13,
   "metadata": {
    "id": "05E6PuwrFiK4"
   },
   "outputs": [],
   "source": [
    "#if 999 then irrelevent\n",
    "\n",
    "#999 = month and day of the week = irrelevent (turn them into null values)"
   ]
  },
  {
   "cell_type": "markdown",
   "metadata": {
    "id": "jlVy9YlxaD1s"
   },
   "source": [
    "## Scoring Mechanism Building (Logistic Regression)\n"
   ]
  },
  {
   "cell_type": "markdown",
   "metadata": {
    "id": "n01ICqSBpN2I"
   },
   "source": [
    "**Note**: Score for a True negative is going to be 0, not 50"
   ]
  },
  {
   "cell_type": "markdown",
   "metadata": {
    "id": "a20cbFu1ajMK"
   },
   "source": [
    "During evaluation of the models, please use the following parameters: <br>\n",
    "✅  For each incorrect prediction, the scoring mechanism would penalize the model by 3 units. <br>\n",
    "✅ For each correct prediction, the scoring mechanism would reward the model by 50 units."
   ]
  },
  {
   "cell_type": "markdown",
   "metadata": {
    "id": "14XTNPFUbeTj"
   },
   "source": [
    "### Step 1: Train Test Split (Use 70% as training data)"
   ]
  },
  {
   "cell_type": "code",
   "execution_count": 15,
   "metadata": {
    "colab": {
     "base_uri": "https://localhost:8080/"
    },
    "id": "bHQM7C3raGUz",
    "outputId": "c93df35b-a292-4872-c12e-95091b746c09"
   },
   "outputs": [
    {
     "name": "stdout",
     "output_type": "stream",
     "text": [
      "Shape of X_train: (28831, 55)\n",
      "Shape of X_test: (12357, 55)\n",
      "Shape of y_train: (28831,)\n",
      "Shape of y_test: (12357,)\n"
     ]
    }
   ],
   "source": [
    "X = df_dummy.drop(\"y_yes\", axis=1)\n",
    "y = df_dummy[\"y_yes\"]\n",
    "\n",
    "X_train, X_test, y_train, y_test = train_test_split(X, y, test_size=0.3, random_state=42)\n",
    "\n",
    "print(\"Shape of X_train:\", X_train.shape)\n",
    "print(\"Shape of X_test:\", X_test.shape)\n",
    "print(\"Shape of y_train:\", y_train.shape)\n",
    "print(\"Shape of y_test:\", y_test.shape)"
   ]
  },
  {
   "cell_type": "markdown",
   "metadata": {
    "id": "G_6YsORMexen"
   },
   "source": [
    "### Step 2: Create Logistic Regression Model"
   ]
  },
  {
   "cell_type": "code",
   "execution_count": 16,
   "metadata": {
    "colab": {
     "base_uri": "https://localhost:8080/"
    },
    "id": "KIKmriDIePh-",
    "outputId": "7c95cd9f-aa49-4e99-aea6-410d6d97d6da"
   },
   "outputs": [
    {
     "name": "stderr",
     "output_type": "stream",
     "text": [
      "/opt/anaconda3/lib/python3.9/site-packages/sklearn/linear_model/_logistic.py:458: ConvergenceWarning: lbfgs failed to converge (status=1):\n",
      "STOP: TOTAL NO. of ITERATIONS REACHED LIMIT.\n",
      "\n",
      "Increase the number of iterations (max_iter) or scale the data as shown in:\n",
      "    https://scikit-learn.org/stable/modules/preprocessing.html\n",
      "Please also refer to the documentation for alternative solver options:\n",
      "    https://scikit-learn.org/stable/modules/linear_model.html#logistic-regression\n",
      "  n_iter_i = _check_optimize_result(\n"
     ]
    }
   ],
   "source": [
    "from sklearn.linear_model import LogisticRegression\n",
    "import pandas as pd\n",
    "\n",
    "# Initialize the logistic regression model\n",
    "logistic_model = LogisticRegression()\n",
    "\n",
    "# Fit the model to the training data\n",
    "logistic_model.fit(X_train, y_train)\n",
    "\n",
    "# Make predictions on the test set\n",
    "predictions = logistic_model.predict(X_test)\n",
    "\n",
    "# Create DataFrame with true labels and predictions\n",
    "logit_results_df = pd.DataFrame({'True Labels': y_test, 'Predictions': predictions})\n",
    "\n"
   ]
  },
  {
   "cell_type": "code",
   "execution_count": 17,
   "metadata": {
    "colab": {
     "base_uri": "https://localhost:8080/",
     "height": 668
    },
    "id": "gvzmhhRWkRZF",
    "outputId": "888f50a8-53c6-4554-aa22-42a0fceaaac2"
   },
   "outputs": [
    {
     "name": "stderr",
     "output_type": "stream",
     "text": [
      "/var/folders/v0/7r3ppc5x19s0nmby4drzy0wc0000gn/T/ipykernel_35968/146963579.py:13: FutureWarning: \n",
      "\n",
      "Passing `palette` without assigning `hue` is deprecated and will be removed in v0.14.0. Assign the `x` variable to `hue` and set `legend=False` for the same effect.\n",
      "\n",
      "  sns.barplot(data=plot_data, x='Labels', y='Count', palette='pastel')\n"
     ]
    },
    {
     "data": {
      "text/plain": [
       "Text(0, 0.5, 'Count')"
      ]
     },
     "execution_count": 17,
     "metadata": {},
     "output_type": "execute_result"
    },
    {
     "data": {
      "image/png": "[encoded data removed]",
      "text/plain": [
       "<Figure size 576x432 with 1 Axes>"
      ]
     },
     "metadata": {
      "needs_background": "light"
     },
     "output_type": "display_data"
    }
   ],
   "source": [
    "y_test_counts = logit_results_df['True Labels'].value_counts()\n",
    "predictions_counts = logit_results_df['Predictions'].value_counts()\n",
    "\n",
    "# Create DataFrame for plotting\n",
    "plot_data = pd.DataFrame({\n",
    "    'Labels': ['y_test says 0', 'predictions say 0', 'y_test says 1', 'predictions say 1'],\n",
    "    'Count': [y_test_counts.get(0, 0), predictions_counts.get(0, 0),\n",
    "              y_test_counts.get(1, 0), predictions_counts.get(1, 0)]\n",
    "})\n",
    "\n",
    "# Create the barplot using Seaborn\n",
    "plt.figure(figsize=(8, 6))\n",
    "sns.barplot(data=plot_data, x='Labels', y='Count', palette='pastel')\n",
    "\n",
    "# Add labels\n",
    "plt.title('Distribution of True Labels and Predictions')\n",
    "plt.xlabel('Labels')\n",
    "plt.ylabel('Count')"
   ]
  },
  {
   "cell_type": "code",
   "execution_count": 18,
   "metadata": {
    "colab": {
     "base_uri": "https://localhost:8080/",
     "height": 989
    },
    "id": "pbxrgdIwe6LY",
    "outputId": "ed273630-a753-4717-b63d-ca1f7e387866"
   },
   "outputs": [
    {
     "data": {
      "text/html": [
       "<div>\n",
       "<style scoped>\n",
       "    .dataframe tbody tr th:only-of-type {\n",
       "        vertical-align: middle;\n",
       "    }\n",
       "\n",
       "    .dataframe tbody tr th {\n",
       "        vertical-align: top;\n",
       "    }\n",
       "\n",
       "    .dataframe thead th {\n",
       "        text-align: right;\n",
       "    }\n",
       "</style>\n",
       "<table border=\"1\" class=\"dataframe\">\n",
       "  <thead>\n",
       "    <tr style=\"text-align: right;\">\n",
       "      <th></th>\n",
       "      <th>True Labels</th>\n",
       "      <th>Predictions</th>\n",
       "    </tr>\n",
       "  </thead>\n",
       "  <tbody>\n",
       "    <tr>\n",
       "      <th>32884</th>\n",
       "      <td>0.0</td>\n",
       "      <td>0.0</td>\n",
       "    </tr>\n",
       "    <tr>\n",
       "      <th>3169</th>\n",
       "      <td>0.0</td>\n",
       "      <td>0.0</td>\n",
       "    </tr>\n",
       "    <tr>\n",
       "      <th>32206</th>\n",
       "      <td>0.0</td>\n",
       "      <td>0.0</td>\n",
       "    </tr>\n",
       "    <tr>\n",
       "      <th>9403</th>\n",
       "      <td>0.0</td>\n",
       "      <td>0.0</td>\n",
       "    </tr>\n",
       "    <tr>\n",
       "      <th>14020</th>\n",
       "      <td>0.0</td>\n",
       "      <td>0.0</td>\n",
       "    </tr>\n",
       "    <tr>\n",
       "      <th>17201</th>\n",
       "      <td>0.0</td>\n",
       "      <td>0.0</td>\n",
       "    </tr>\n",
       "    <tr>\n",
       "      <th>879</th>\n",
       "      <td>0.0</td>\n",
       "      <td>0.0</td>\n",
       "    </tr>\n",
       "    <tr>\n",
       "      <th>23757</th>\n",
       "      <td>0.0</td>\n",
       "      <td>0.0</td>\n",
       "    </tr>\n",
       "    <tr>\n",
       "      <th>10821</th>\n",
       "      <td>0.0</td>\n",
       "      <td>0.0</td>\n",
       "    </tr>\n",
       "    <tr>\n",
       "      <th>14355</th>\n",
       "      <td>0.0</td>\n",
       "      <td>0.0</td>\n",
       "    </tr>\n",
       "    <tr>\n",
       "      <th>32311</th>\n",
       "      <td>0.0</td>\n",
       "      <td>0.0</td>\n",
       "    </tr>\n",
       "    <tr>\n",
       "      <th>31850</th>\n",
       "      <td>0.0</td>\n",
       "      <td>0.0</td>\n",
       "    </tr>\n",
       "    <tr>\n",
       "      <th>13595</th>\n",
       "      <td>1.0</td>\n",
       "      <td>0.0</td>\n",
       "    </tr>\n",
       "    <tr>\n",
       "      <th>21871</th>\n",
       "      <td>1.0</td>\n",
       "      <td>0.0</td>\n",
       "    </tr>\n",
       "    <tr>\n",
       "      <th>16735</th>\n",
       "      <td>0.0</td>\n",
       "      <td>0.0</td>\n",
       "    </tr>\n",
       "    <tr>\n",
       "      <th>8040</th>\n",
       "      <td>0.0</td>\n",
       "      <td>0.0</td>\n",
       "    </tr>\n",
       "    <tr>\n",
       "      <th>14064</th>\n",
       "      <td>0.0</td>\n",
       "      <td>0.0</td>\n",
       "    </tr>\n",
       "    <tr>\n",
       "      <th>17688</th>\n",
       "      <td>0.0</td>\n",
       "      <td>0.0</td>\n",
       "    </tr>\n",
       "    <tr>\n",
       "      <th>15507</th>\n",
       "      <td>0.0</td>\n",
       "      <td>0.0</td>\n",
       "    </tr>\n",
       "    <tr>\n",
       "      <th>37480</th>\n",
       "      <td>1.0</td>\n",
       "      <td>0.0</td>\n",
       "    </tr>\n",
       "    <tr>\n",
       "      <th>17267</th>\n",
       "      <td>1.0</td>\n",
       "      <td>1.0</td>\n",
       "    </tr>\n",
       "    <tr>\n",
       "      <th>1670</th>\n",
       "      <td>0.0</td>\n",
       "      <td>0.0</td>\n",
       "    </tr>\n",
       "    <tr>\n",
       "      <th>8528</th>\n",
       "      <td>1.0</td>\n",
       "      <td>0.0</td>\n",
       "    </tr>\n",
       "    <tr>\n",
       "      <th>15755</th>\n",
       "      <td>0.0</td>\n",
       "      <td>0.0</td>\n",
       "    </tr>\n",
       "    <tr>\n",
       "      <th>20770</th>\n",
       "      <td>0.0</td>\n",
       "      <td>0.0</td>\n",
       "    </tr>\n",
       "    <tr>\n",
       "      <th>36915</th>\n",
       "      <td>0.0</td>\n",
       "      <td>0.0</td>\n",
       "    </tr>\n",
       "    <tr>\n",
       "      <th>33728</th>\n",
       "      <td>0.0</td>\n",
       "      <td>0.0</td>\n",
       "    </tr>\n",
       "    <tr>\n",
       "      <th>22969</th>\n",
       "      <td>0.0</td>\n",
       "      <td>0.0</td>\n",
       "    </tr>\n",
       "    <tr>\n",
       "      <th>8925</th>\n",
       "      <td>0.0</td>\n",
       "      <td>0.0</td>\n",
       "    </tr>\n",
       "    <tr>\n",
       "      <th>144</th>\n",
       "      <td>0.0</td>\n",
       "      <td>0.0</td>\n",
       "    </tr>\n",
       "  </tbody>\n",
       "</table>\n",
       "</div>"
      ],
      "text/plain": [
       "       True Labels  Predictions\n",
       "32884          0.0          0.0\n",
       "3169           0.0          0.0\n",
       "32206          0.0          0.0\n",
       "9403           0.0          0.0\n",
       "14020          0.0          0.0\n",
       "17201          0.0          0.0\n",
       "879            0.0          0.0\n",
       "23757          0.0          0.0\n",
       "10821          0.0          0.0\n",
       "14355          0.0          0.0\n",
       "32311          0.0          0.0\n",
       "31850          0.0          0.0\n",
       "13595          1.0          0.0\n",
       "21871          1.0          0.0\n",
       "16735          0.0          0.0\n",
       "8040           0.0          0.0\n",
       "14064          0.0          0.0\n",
       "17688          0.0          0.0\n",
       "15507          0.0          0.0\n",
       "37480          1.0          0.0\n",
       "17267          1.0          1.0\n",
       "1670           0.0          0.0\n",
       "8528           1.0          0.0\n",
       "15755          0.0          0.0\n",
       "20770          0.0          0.0\n",
       "36915          0.0          0.0\n",
       "33728          0.0          0.0\n",
       "22969          0.0          0.0\n",
       "8925           0.0          0.0\n",
       "144            0.0          0.0"
      ]
     },
     "execution_count": 18,
     "metadata": {},
     "output_type": "execute_result"
    }
   ],
   "source": [
    "logit_results_df.head(30)"
   ]
  },
  {
   "cell_type": "code",
   "execution_count": 19,
   "metadata": {
    "colab": {
     "base_uri": "https://localhost:8080/",
     "height": 423
    },
    "id": "xrAfYFfkfCS6",
    "outputId": "c547fd55-e7d9-40d4-a849-fe550f8c359a"
   },
   "outputs": [
    {
     "data": {
      "text/html": [
       "<div>\n",
       "<style scoped>\n",
       "    .dataframe tbody tr th:only-of-type {\n",
       "        vertical-align: middle;\n",
       "    }\n",
       "\n",
       "    .dataframe tbody tr th {\n",
       "        vertical-align: top;\n",
       "    }\n",
       "\n",
       "    .dataframe thead th {\n",
       "        text-align: right;\n",
       "    }\n",
       "</style>\n",
       "<table border=\"1\" class=\"dataframe\">\n",
       "  <thead>\n",
       "    <tr style=\"text-align: right;\">\n",
       "      <th></th>\n",
       "      <th>True Labels</th>\n",
       "      <th>Predictions</th>\n",
       "      <th>Score</th>\n",
       "    </tr>\n",
       "  </thead>\n",
       "  <tbody>\n",
       "    <tr>\n",
       "      <th>32884</th>\n",
       "      <td>0.0</td>\n",
       "      <td>0.0</td>\n",
       "      <td>0</td>\n",
       "    </tr>\n",
       "    <tr>\n",
       "      <th>3169</th>\n",
       "      <td>0.0</td>\n",
       "      <td>0.0</td>\n",
       "      <td>0</td>\n",
       "    </tr>\n",
       "    <tr>\n",
       "      <th>32206</th>\n",
       "      <td>0.0</td>\n",
       "      <td>0.0</td>\n",
       "      <td>0</td>\n",
       "    </tr>\n",
       "    <tr>\n",
       "      <th>9403</th>\n",
       "      <td>0.0</td>\n",
       "      <td>0.0</td>\n",
       "      <td>0</td>\n",
       "    </tr>\n",
       "    <tr>\n",
       "      <th>14020</th>\n",
       "      <td>0.0</td>\n",
       "      <td>0.0</td>\n",
       "      <td>0</td>\n",
       "    </tr>\n",
       "    <tr>\n",
       "      <th>...</th>\n",
       "      <td>...</td>\n",
       "      <td>...</td>\n",
       "      <td>...</td>\n",
       "    </tr>\n",
       "    <tr>\n",
       "      <th>15908</th>\n",
       "      <td>0.0</td>\n",
       "      <td>0.0</td>\n",
       "      <td>0</td>\n",
       "    </tr>\n",
       "    <tr>\n",
       "      <th>28222</th>\n",
       "      <td>0.0</td>\n",
       "      <td>1.0</td>\n",
       "      <td>-3</td>\n",
       "    </tr>\n",
       "    <tr>\n",
       "      <th>14194</th>\n",
       "      <td>0.0</td>\n",
       "      <td>0.0</td>\n",
       "      <td>0</td>\n",
       "    </tr>\n",
       "    <tr>\n",
       "      <th>19764</th>\n",
       "      <td>0.0</td>\n",
       "      <td>0.0</td>\n",
       "      <td>0</td>\n",
       "    </tr>\n",
       "    <tr>\n",
       "      <th>26052</th>\n",
       "      <td>0.0</td>\n",
       "      <td>0.0</td>\n",
       "      <td>0</td>\n",
       "    </tr>\n",
       "  </tbody>\n",
       "</table>\n",
       "<p>12357 rows × 3 columns</p>\n",
       "</div>"
      ],
      "text/plain": [
       "       True Labels  Predictions  Score\n",
       "32884          0.0          0.0      0\n",
       "3169           0.0          0.0      0\n",
       "32206          0.0          0.0      0\n",
       "9403           0.0          0.0      0\n",
       "14020          0.0          0.0      0\n",
       "...            ...          ...    ...\n",
       "15908          0.0          0.0      0\n",
       "28222          0.0          1.0     -3\n",
       "14194          0.0          0.0      0\n",
       "19764          0.0          0.0      0\n",
       "26052          0.0          0.0      0\n",
       "\n",
       "[12357 rows x 3 columns]"
      ]
     },
     "execution_count": 19,
     "metadata": {},
     "output_type": "execute_result"
    }
   ],
   "source": [
    "# Initialize an empty list to store scores\n",
    "scores = []\n",
    "\n",
    "# Iterate over each row in the DataFrame\n",
    "for index, row in logit_results_df.iterrows():\n",
    "    # Check if the prediction is correct\n",
    "    if row['True Labels'] == 1 and row['Predictions'] == 1:\n",
    "        # If correct, reward the model by 50 units\n",
    "        score = 50\n",
    "    elif row['True Labels'] == 0 and row['Predictions'] == 0:\n",
    "        # If incorrect, penalize the model by 3 units\n",
    "        score = 0\n",
    "    else:\n",
    "      score = -3\n",
    "\n",
    "    # Append the score to the list\n",
    "    scores.append(score)\n",
    "\n",
    "# Add the scores list as a new column to the DataFrame\n",
    "logit_results_df['Score'] = scores\n",
    "\n",
    "# Display the updated DataFrame\n",
    "logit_results_df\n"
   ]
  },
  {
   "cell_type": "code",
   "execution_count": 20,
   "metadata": {
    "id": "EFuJzv88ff7a"
   },
   "outputs": [],
   "source": [
    "# prompt: sum up the score column\n",
    "\n",
    "logit_score = logit_results_df['Score'].sum()\n"
   ]
  },
  {
   "cell_type": "code",
   "execution_count": 21,
   "metadata": {
    "id": "TccGOvN0fxnf"
   },
   "outputs": [],
   "source": [
    "#if willing to deposit and hit 50\n",
    "#if willing to deposit and doen't hit 50 = NO\n"
   ]
  },
  {
   "cell_type": "code",
   "execution_count": null,
   "metadata": {
    "id": "6Vy6PdCBqYG9"
   },
   "outputs": [],
   "source": []
  },
  {
   "cell_type": "markdown",
   "metadata": {
    "id": "DtE_53uaq5l8"
   },
   "source": [
    "## Scoring Mechanism Building (SVM)"
   ]
  },
  {
   "cell_type": "code",
   "execution_count": 22,
   "metadata": {
    "id": "qy32d3x2q9gr"
   },
   "outputs": [],
   "source": [
    "\n",
    "from sklearn.svm import SVC\n",
    "\n",
    "# Initialize the SVM model\n",
    "svm_model = SVC()\n",
    "\n",
    "# Fit the model to the training data\n",
    "svm_model.fit(X_train, y_train)\n",
    "\n",
    "# Make predictions on the test set\n",
    "predictions = svm_model.predict(X_test)\n"
   ]
  },
  {
   "cell_type": "code",
   "execution_count": 23,
   "metadata": {
    "colab": {
     "base_uri": "https://localhost:8080/"
    },
    "id": "cyqhvH9ArjeF",
    "outputId": "d994a9e7-54e3-418c-e6e9-5a17d0019bda"
   },
   "outputs": [
    {
     "data": {
      "text/plain": [
       "array([0., 0., 0., ..., 0., 0., 0.])"
      ]
     },
     "execution_count": 23,
     "metadata": {},
     "output_type": "execute_result"
    }
   ],
   "source": [
    "predictions"
   ]
  },
  {
   "cell_type": "code",
   "execution_count": 24,
   "metadata": {
    "colab": {
     "base_uri": "https://localhost:8080/",
     "height": 206
    },
    "id": "_qXlSD-arsqh",
    "outputId": "363d8dd3-15f2-4b2f-b5c8-8b91e2fdaa96"
   },
   "outputs": [
    {
     "data": {
      "text/html": [
       "<div>\n",
       "<style scoped>\n",
       "    .dataframe tbody tr th:only-of-type {\n",
       "        vertical-align: middle;\n",
       "    }\n",
       "\n",
       "    .dataframe tbody tr th {\n",
       "        vertical-align: top;\n",
       "    }\n",
       "\n",
       "    .dataframe thead th {\n",
       "        text-align: right;\n",
       "    }\n",
       "</style>\n",
       "<table border=\"1\" class=\"dataframe\">\n",
       "  <thead>\n",
       "    <tr style=\"text-align: right;\">\n",
       "      <th></th>\n",
       "      <th>True Labels</th>\n",
       "      <th>Predictions</th>\n",
       "    </tr>\n",
       "  </thead>\n",
       "  <tbody>\n",
       "    <tr>\n",
       "      <th>32884</th>\n",
       "      <td>0.0</td>\n",
       "      <td>0.0</td>\n",
       "    </tr>\n",
       "    <tr>\n",
       "      <th>3169</th>\n",
       "      <td>0.0</td>\n",
       "      <td>0.0</td>\n",
       "    </tr>\n",
       "    <tr>\n",
       "      <th>32206</th>\n",
       "      <td>0.0</td>\n",
       "      <td>0.0</td>\n",
       "    </tr>\n",
       "    <tr>\n",
       "      <th>9403</th>\n",
       "      <td>0.0</td>\n",
       "      <td>0.0</td>\n",
       "    </tr>\n",
       "    <tr>\n",
       "      <th>14020</th>\n",
       "      <td>0.0</td>\n",
       "      <td>0.0</td>\n",
       "    </tr>\n",
       "  </tbody>\n",
       "</table>\n",
       "</div>"
      ],
      "text/plain": [
       "       True Labels  Predictions\n",
       "32884          0.0          0.0\n",
       "3169           0.0          0.0\n",
       "32206          0.0          0.0\n",
       "9403           0.0          0.0\n",
       "14020          0.0          0.0"
      ]
     },
     "execution_count": 24,
     "metadata": {},
     "output_type": "execute_result"
    }
   ],
   "source": [
    "\n",
    "svm_results_df = pd.DataFrame({'True Labels': y_test, 'Predictions': predictions})\n",
    "svm_results_df.head(5)\n"
   ]
  },
  {
   "cell_type": "code",
   "execution_count": 25,
   "metadata": {
    "colab": {
     "base_uri": "https://localhost:8080/",
     "height": 423
    },
    "id": "WeiNmiNFsEo0",
    "outputId": "d085505f-c7e8-4ebf-8115-f8f787580bae"
   },
   "outputs": [
    {
     "data": {
      "text/html": [
       "<div>\n",
       "<style scoped>\n",
       "    .dataframe tbody tr th:only-of-type {\n",
       "        vertical-align: middle;\n",
       "    }\n",
       "\n",
       "    .dataframe tbody tr th {\n",
       "        vertical-align: top;\n",
       "    }\n",
       "\n",
       "    .dataframe thead th {\n",
       "        text-align: right;\n",
       "    }\n",
       "</style>\n",
       "<table border=\"1\" class=\"dataframe\">\n",
       "  <thead>\n",
       "    <tr style=\"text-align: right;\">\n",
       "      <th></th>\n",
       "      <th>True Labels</th>\n",
       "      <th>Predictions</th>\n",
       "      <th>Score</th>\n",
       "    </tr>\n",
       "  </thead>\n",
       "  <tbody>\n",
       "    <tr>\n",
       "      <th>32884</th>\n",
       "      <td>0.0</td>\n",
       "      <td>0.0</td>\n",
       "      <td>0</td>\n",
       "    </tr>\n",
       "    <tr>\n",
       "      <th>3169</th>\n",
       "      <td>0.0</td>\n",
       "      <td>0.0</td>\n",
       "      <td>0</td>\n",
       "    </tr>\n",
       "    <tr>\n",
       "      <th>32206</th>\n",
       "      <td>0.0</td>\n",
       "      <td>0.0</td>\n",
       "      <td>0</td>\n",
       "    </tr>\n",
       "    <tr>\n",
       "      <th>9403</th>\n",
       "      <td>0.0</td>\n",
       "      <td>0.0</td>\n",
       "      <td>0</td>\n",
       "    </tr>\n",
       "    <tr>\n",
       "      <th>14020</th>\n",
       "      <td>0.0</td>\n",
       "      <td>0.0</td>\n",
       "      <td>0</td>\n",
       "    </tr>\n",
       "    <tr>\n",
       "      <th>...</th>\n",
       "      <td>...</td>\n",
       "      <td>...</td>\n",
       "      <td>...</td>\n",
       "    </tr>\n",
       "    <tr>\n",
       "      <th>15908</th>\n",
       "      <td>0.0</td>\n",
       "      <td>0.0</td>\n",
       "      <td>0</td>\n",
       "    </tr>\n",
       "    <tr>\n",
       "      <th>28222</th>\n",
       "      <td>0.0</td>\n",
       "      <td>1.0</td>\n",
       "      <td>-3</td>\n",
       "    </tr>\n",
       "    <tr>\n",
       "      <th>14194</th>\n",
       "      <td>0.0</td>\n",
       "      <td>0.0</td>\n",
       "      <td>0</td>\n",
       "    </tr>\n",
       "    <tr>\n",
       "      <th>19764</th>\n",
       "      <td>0.0</td>\n",
       "      <td>0.0</td>\n",
       "      <td>0</td>\n",
       "    </tr>\n",
       "    <tr>\n",
       "      <th>26052</th>\n",
       "      <td>0.0</td>\n",
       "      <td>0.0</td>\n",
       "      <td>0</td>\n",
       "    </tr>\n",
       "  </tbody>\n",
       "</table>\n",
       "<p>12357 rows × 3 columns</p>\n",
       "</div>"
      ],
      "text/plain": [
       "       True Labels  Predictions  Score\n",
       "32884          0.0          0.0      0\n",
       "3169           0.0          0.0      0\n",
       "32206          0.0          0.0      0\n",
       "9403           0.0          0.0      0\n",
       "14020          0.0          0.0      0\n",
       "...            ...          ...    ...\n",
       "15908          0.0          0.0      0\n",
       "28222          0.0          1.0     -3\n",
       "14194          0.0          0.0      0\n",
       "19764          0.0          0.0      0\n",
       "26052          0.0          0.0      0\n",
       "\n",
       "[12357 rows x 3 columns]"
      ]
     },
     "execution_count": 25,
     "metadata": {},
     "output_type": "execute_result"
    }
   ],
   "source": [
    "scores = []\n",
    "\n",
    "# Iterate over each row in the DataFrame\n",
    "for index, row in svm_results_df.iterrows():\n",
    "    # Check if the prediction is correct\n",
    "    if row['True Labels'] == 1 and row['Predictions'] == 1:\n",
    "        # If correct, reward the model by 50 units\n",
    "        score = 50\n",
    "    elif row['True Labels'] == 0 and row['Predictions'] == 0:\n",
    "        # If incorrect, penalize the model by 3 units\n",
    "        score = 0\n",
    "    else:\n",
    "      score = -3\n",
    "\n",
    "    # Append the score to the list\n",
    "    scores.append(score)\n",
    "\n",
    "# Add the scores list as a new column to the DataFrame\n",
    "svm_results_df['Score'] = scores\n",
    "\n",
    "# Display the updated DataFrame\n",
    "svm_results_df\n"
   ]
  },
  {
   "cell_type": "code",
   "execution_count": 26,
   "metadata": {
    "id": "zgDqidyFsSeH"
   },
   "outputs": [],
   "source": [
    "svm_score = svm_results_df['Score'].sum()\n"
   ]
  },
  {
   "cell_type": "code",
   "execution_count": null,
   "metadata": {
    "id": "bTuX7YzgsaAo"
   },
   "outputs": [],
   "source": []
  },
  {
   "cell_type": "markdown",
   "metadata": {
    "id": "0c-rtW_Mteit"
   },
   "source": [
    "## Scoring Mechanism Building (Gradient Boosting Machines)"
   ]
  },
  {
   "cell_type": "code",
   "execution_count": 27,
   "metadata": {
    "colab": {
     "base_uri": "https://localhost:8080/",
     "height": 206
    },
    "id": "Uey8EnEqth-N",
    "outputId": "b3525675-2ed5-4bd3-ba9f-26d65fbe2d80"
   },
   "outputs": [
    {
     "data": {
      "text/html": [
       "<div>\n",
       "<style scoped>\n",
       "    .dataframe tbody tr th:only-of-type {\n",
       "        vertical-align: middle;\n",
       "    }\n",
       "\n",
       "    .dataframe tbody tr th {\n",
       "        vertical-align: top;\n",
       "    }\n",
       "\n",
       "    .dataframe thead th {\n",
       "        text-align: right;\n",
       "    }\n",
       "</style>\n",
       "<table border=\"1\" class=\"dataframe\">\n",
       "  <thead>\n",
       "    <tr style=\"text-align: right;\">\n",
       "      <th></th>\n",
       "      <th>True Labels</th>\n",
       "      <th>Predictions</th>\n",
       "    </tr>\n",
       "  </thead>\n",
       "  <tbody>\n",
       "    <tr>\n",
       "      <th>32884</th>\n",
       "      <td>0.0</td>\n",
       "      <td>0.0</td>\n",
       "    </tr>\n",
       "    <tr>\n",
       "      <th>3169</th>\n",
       "      <td>0.0</td>\n",
       "      <td>0.0</td>\n",
       "    </tr>\n",
       "    <tr>\n",
       "      <th>32206</th>\n",
       "      <td>0.0</td>\n",
       "      <td>0.0</td>\n",
       "    </tr>\n",
       "    <tr>\n",
       "      <th>9403</th>\n",
       "      <td>0.0</td>\n",
       "      <td>0.0</td>\n",
       "    </tr>\n",
       "    <tr>\n",
       "      <th>14020</th>\n",
       "      <td>0.0</td>\n",
       "      <td>0.0</td>\n",
       "    </tr>\n",
       "  </tbody>\n",
       "</table>\n",
       "</div>"
      ],
      "text/plain": [
       "       True Labels  Predictions\n",
       "32884          0.0          0.0\n",
       "3169           0.0          0.0\n",
       "32206          0.0          0.0\n",
       "9403           0.0          0.0\n",
       "14020          0.0          0.0"
      ]
     },
     "execution_count": 27,
     "metadata": {},
     "output_type": "execute_result"
    }
   ],
   "source": [
    "\n",
    "\n",
    "from sklearn.ensemble import GradientBoostingClassifier\n",
    "\n",
    "# Initialize the GBM model\n",
    "gbm_model = GradientBoostingClassifier()\n",
    "\n",
    "# Fit the model to the training data\n",
    "gbm_model.fit(X_train, y_train)\n",
    "\n",
    "# Make predictions on the test set\n",
    "predictions = gbm_model.predict(X_test)\n",
    "\n",
    "# Create DataFrame with true labels and predictions\n",
    "gbm_results_df = pd.DataFrame({'True Labels': y_test, 'Predictions': predictions})\n",
    "\n",
    "gbm_results_df.head()\n"
   ]
  },
  {
   "cell_type": "code",
   "execution_count": 28,
   "metadata": {
    "colab": {
     "base_uri": "https://localhost:8080/",
     "height": 423
    },
    "id": "xb66dZX8t30F",
    "outputId": "2c922a8f-ee8e-43f5-b2e6-4631bb04d6dd"
   },
   "outputs": [
    {
     "data": {
      "text/html": [
       "<div>\n",
       "<style scoped>\n",
       "    .dataframe tbody tr th:only-of-type {\n",
       "        vertical-align: middle;\n",
       "    }\n",
       "\n",
       "    .dataframe tbody tr th {\n",
       "        vertical-align: top;\n",
       "    }\n",
       "\n",
       "    .dataframe thead th {\n",
       "        text-align: right;\n",
       "    }\n",
       "</style>\n",
       "<table border=\"1\" class=\"dataframe\">\n",
       "  <thead>\n",
       "    <tr style=\"text-align: right;\">\n",
       "      <th></th>\n",
       "      <th>True Labels</th>\n",
       "      <th>Predictions</th>\n",
       "      <th>Score</th>\n",
       "    </tr>\n",
       "  </thead>\n",
       "  <tbody>\n",
       "    <tr>\n",
       "      <th>32884</th>\n",
       "      <td>0.0</td>\n",
       "      <td>0.0</td>\n",
       "      <td>0</td>\n",
       "    </tr>\n",
       "    <tr>\n",
       "      <th>3169</th>\n",
       "      <td>0.0</td>\n",
       "      <td>0.0</td>\n",
       "      <td>0</td>\n",
       "    </tr>\n",
       "    <tr>\n",
       "      <th>32206</th>\n",
       "      <td>0.0</td>\n",
       "      <td>0.0</td>\n",
       "      <td>0</td>\n",
       "    </tr>\n",
       "    <tr>\n",
       "      <th>9403</th>\n",
       "      <td>0.0</td>\n",
       "      <td>0.0</td>\n",
       "      <td>0</td>\n",
       "    </tr>\n",
       "    <tr>\n",
       "      <th>14020</th>\n",
       "      <td>0.0</td>\n",
       "      <td>0.0</td>\n",
       "      <td>0</td>\n",
       "    </tr>\n",
       "    <tr>\n",
       "      <th>...</th>\n",
       "      <td>...</td>\n",
       "      <td>...</td>\n",
       "      <td>...</td>\n",
       "    </tr>\n",
       "    <tr>\n",
       "      <th>15908</th>\n",
       "      <td>0.0</td>\n",
       "      <td>0.0</td>\n",
       "      <td>0</td>\n",
       "    </tr>\n",
       "    <tr>\n",
       "      <th>28222</th>\n",
       "      <td>0.0</td>\n",
       "      <td>0.0</td>\n",
       "      <td>0</td>\n",
       "    </tr>\n",
       "    <tr>\n",
       "      <th>14194</th>\n",
       "      <td>0.0</td>\n",
       "      <td>0.0</td>\n",
       "      <td>0</td>\n",
       "    </tr>\n",
       "    <tr>\n",
       "      <th>19764</th>\n",
       "      <td>0.0</td>\n",
       "      <td>0.0</td>\n",
       "      <td>0</td>\n",
       "    </tr>\n",
       "    <tr>\n",
       "      <th>26052</th>\n",
       "      <td>0.0</td>\n",
       "      <td>0.0</td>\n",
       "      <td>0</td>\n",
       "    </tr>\n",
       "  </tbody>\n",
       "</table>\n",
       "<p>12357 rows × 3 columns</p>\n",
       "</div>"
      ],
      "text/plain": [
       "       True Labels  Predictions  Score\n",
       "32884          0.0          0.0      0\n",
       "3169           0.0          0.0      0\n",
       "32206          0.0          0.0      0\n",
       "9403           0.0          0.0      0\n",
       "14020          0.0          0.0      0\n",
       "...            ...          ...    ...\n",
       "15908          0.0          0.0      0\n",
       "28222          0.0          0.0      0\n",
       "14194          0.0          0.0      0\n",
       "19764          0.0          0.0      0\n",
       "26052          0.0          0.0      0\n",
       "\n",
       "[12357 rows x 3 columns]"
      ]
     },
     "execution_count": 28,
     "metadata": {},
     "output_type": "execute_result"
    }
   ],
   "source": [
    "scores = []\n",
    "\n",
    "# Iterate over each row in the DataFrame\n",
    "for index, row in gbm_results_df.iterrows():\n",
    "    # Check if the prediction is correct\n",
    "    if row['True Labels'] == 1 and row['Predictions'] == 1:\n",
    "        # If correct, reward the model by 50 units\n",
    "        score = 50\n",
    "    elif row['True Labels'] == 0 and row['Predictions'] == 0:\n",
    "        # If incorrect, penalize the model by 3 units\n",
    "        score = 0\n",
    "    else:\n",
    "      score = -3\n",
    "\n",
    "    # Append the score to the list\n",
    "    scores.append(score)\n",
    "\n",
    "# Add the scores list as a new column to the DataFrame\n",
    "gbm_results_df['Score'] = scores\n",
    "\n",
    "# Display the updated DataFrame\n",
    "gbm_results_df"
   ]
  },
  {
   "cell_type": "code",
   "execution_count": 29,
   "metadata": {
    "id": "7Lb7zbTHuDfP"
   },
   "outputs": [],
   "source": [
    "gbm_score = gbm_results_df['Score'].sum()\n"
   ]
  },
  {
   "cell_type": "markdown",
   "metadata": {
    "id": "an-UcMI51AsA"
   },
   "source": [
    "## Scoring Mechanism Building (Decision Trees)"
   ]
  },
  {
   "cell_type": "code",
   "execution_count": 30,
   "metadata": {
    "id": "mIZQCnz2vuim"
   },
   "outputs": [],
   "source": [
    "import pandas as pd\n",
    "from sklearn.tree import DecisionTreeClassifier\n",
    "\n",
    "# Initialize the Decision Tree model\n",
    "tree_model = DecisionTreeClassifier()\n",
    "\n",
    "# Fit the model to the training data\n",
    "tree_model.fit(X_train, y_train)\n",
    "\n",
    "# Make predictions on the test set\n",
    "predictions = tree_model.predict(X_test)\n",
    "\n",
    "# Create DataFrame with true labels and predictions\n",
    "tree_results_df = pd.DataFrame({'True Labels': y_test, 'Predictions': predictions})\n"
   ]
  },
  {
   "cell_type": "code",
   "execution_count": 31,
   "metadata": {
    "colab": {
     "base_uri": "https://localhost:8080/",
     "height": 423
    },
    "id": "OZDv5gFswV6I",
    "outputId": "4f5735eb-9bf5-4597-e12e-fb11f647996a"
   },
   "outputs": [
    {
     "data": {
      "text/html": [
       "<div>\n",
       "<style scoped>\n",
       "    .dataframe tbody tr th:only-of-type {\n",
       "        vertical-align: middle;\n",
       "    }\n",
       "\n",
       "    .dataframe tbody tr th {\n",
       "        vertical-align: top;\n",
       "    }\n",
       "\n",
       "    .dataframe thead th {\n",
       "        text-align: right;\n",
       "    }\n",
       "</style>\n",
       "<table border=\"1\" class=\"dataframe\">\n",
       "  <thead>\n",
       "    <tr style=\"text-align: right;\">\n",
       "      <th></th>\n",
       "      <th>True Labels</th>\n",
       "      <th>Predictions</th>\n",
       "      <th>Score</th>\n",
       "    </tr>\n",
       "  </thead>\n",
       "  <tbody>\n",
       "    <tr>\n",
       "      <th>32884</th>\n",
       "      <td>0.0</td>\n",
       "      <td>0.0</td>\n",
       "      <td>0</td>\n",
       "    </tr>\n",
       "    <tr>\n",
       "      <th>3169</th>\n",
       "      <td>0.0</td>\n",
       "      <td>0.0</td>\n",
       "      <td>0</td>\n",
       "    </tr>\n",
       "    <tr>\n",
       "      <th>32206</th>\n",
       "      <td>0.0</td>\n",
       "      <td>0.0</td>\n",
       "      <td>0</td>\n",
       "    </tr>\n",
       "    <tr>\n",
       "      <th>9403</th>\n",
       "      <td>0.0</td>\n",
       "      <td>0.0</td>\n",
       "      <td>0</td>\n",
       "    </tr>\n",
       "    <tr>\n",
       "      <th>14020</th>\n",
       "      <td>0.0</td>\n",
       "      <td>0.0</td>\n",
       "      <td>0</td>\n",
       "    </tr>\n",
       "    <tr>\n",
       "      <th>...</th>\n",
       "      <td>...</td>\n",
       "      <td>...</td>\n",
       "      <td>...</td>\n",
       "    </tr>\n",
       "    <tr>\n",
       "      <th>15908</th>\n",
       "      <td>0.0</td>\n",
       "      <td>0.0</td>\n",
       "      <td>0</td>\n",
       "    </tr>\n",
       "    <tr>\n",
       "      <th>28222</th>\n",
       "      <td>0.0</td>\n",
       "      <td>1.0</td>\n",
       "      <td>-3</td>\n",
       "    </tr>\n",
       "    <tr>\n",
       "      <th>14194</th>\n",
       "      <td>0.0</td>\n",
       "      <td>0.0</td>\n",
       "      <td>0</td>\n",
       "    </tr>\n",
       "    <tr>\n",
       "      <th>19764</th>\n",
       "      <td>0.0</td>\n",
       "      <td>0.0</td>\n",
       "      <td>0</td>\n",
       "    </tr>\n",
       "    <tr>\n",
       "      <th>26052</th>\n",
       "      <td>0.0</td>\n",
       "      <td>0.0</td>\n",
       "      <td>0</td>\n",
       "    </tr>\n",
       "  </tbody>\n",
       "</table>\n",
       "<p>12357 rows × 3 columns</p>\n",
       "</div>"
      ],
      "text/plain": [
       "       True Labels  Predictions  Score\n",
       "32884          0.0          0.0      0\n",
       "3169           0.0          0.0      0\n",
       "32206          0.0          0.0      0\n",
       "9403           0.0          0.0      0\n",
       "14020          0.0          0.0      0\n",
       "...            ...          ...    ...\n",
       "15908          0.0          0.0      0\n",
       "28222          0.0          1.0     -3\n",
       "14194          0.0          0.0      0\n",
       "19764          0.0          0.0      0\n",
       "26052          0.0          0.0      0\n",
       "\n",
       "[12357 rows x 3 columns]"
      ]
     },
     "execution_count": 31,
     "metadata": {},
     "output_type": "execute_result"
    }
   ],
   "source": [
    "scores = []\n",
    "\n",
    "# Iterate over each row in the DataFrame\n",
    "for index, row in tree_results_df.iterrows():\n",
    "    # Check if the prediction is correct\n",
    "    if row['True Labels'] == 1 and row['Predictions'] == 1:\n",
    "        # If correct, reward the model by 50 units\n",
    "        score = 50\n",
    "    elif row['True Labels'] == 0 and row['Predictions'] == 0:\n",
    "        # If incorrect, penalize the model by 3 units\n",
    "        score = 0\n",
    "    else:\n",
    "      score = -3\n",
    "\n",
    "    # Append the score to the list\n",
    "    scores.append(score)\n",
    "\n",
    "# Add the scores list as a new column to the DataFrame\n",
    "tree_results_df['Score'] = scores\n",
    "\n",
    "# Display the updated DataFrame\n",
    "tree_results_df"
   ]
  },
  {
   "cell_type": "code",
   "execution_count": 32,
   "metadata": {
    "id": "HkH8ZT44wlzM"
   },
   "outputs": [],
   "source": [
    "tree_score = tree_results_df['Score'].sum()\n"
   ]
  },
  {
   "cell_type": "markdown",
   "metadata": {
    "id": "A-tK_037CDze"
   },
   "source": [
    "## Scoring Mechanism Building (Random Forest)"
   ]
  },
  {
   "cell_type": "code",
   "execution_count": 33,
   "metadata": {
    "colab": {
     "base_uri": "https://localhost:8080/",
     "height": 206
    },
    "id": "bJ-Qr8ZDuOiO",
    "outputId": "c05f2e86-b136-420d-94fa-9aa324f32f00"
   },
   "outputs": [
    {
     "data": {
      "text/html": [
       "<div>\n",
       "<style scoped>\n",
       "    .dataframe tbody tr th:only-of-type {\n",
       "        vertical-align: middle;\n",
       "    }\n",
       "\n",
       "    .dataframe tbody tr th {\n",
       "        vertical-align: top;\n",
       "    }\n",
       "\n",
       "    .dataframe thead th {\n",
       "        text-align: right;\n",
       "    }\n",
       "</style>\n",
       "<table border=\"1\" class=\"dataframe\">\n",
       "  <thead>\n",
       "    <tr style=\"text-align: right;\">\n",
       "      <th></th>\n",
       "      <th>True Labels</th>\n",
       "      <th>Predictions</th>\n",
       "    </tr>\n",
       "  </thead>\n",
       "  <tbody>\n",
       "    <tr>\n",
       "      <th>32884</th>\n",
       "      <td>0.0</td>\n",
       "      <td>0.0</td>\n",
       "    </tr>\n",
       "    <tr>\n",
       "      <th>3169</th>\n",
       "      <td>0.0</td>\n",
       "      <td>0.0</td>\n",
       "    </tr>\n",
       "    <tr>\n",
       "      <th>32206</th>\n",
       "      <td>0.0</td>\n",
       "      <td>0.0</td>\n",
       "    </tr>\n",
       "    <tr>\n",
       "      <th>9403</th>\n",
       "      <td>0.0</td>\n",
       "      <td>0.0</td>\n",
       "    </tr>\n",
       "    <tr>\n",
       "      <th>14020</th>\n",
       "      <td>0.0</td>\n",
       "      <td>0.0</td>\n",
       "    </tr>\n",
       "  </tbody>\n",
       "</table>\n",
       "</div>"
      ],
      "text/plain": [
       "       True Labels  Predictions\n",
       "32884          0.0          0.0\n",
       "3169           0.0          0.0\n",
       "32206          0.0          0.0\n",
       "9403           0.0          0.0\n",
       "14020          0.0          0.0"
      ]
     },
     "execution_count": 33,
     "metadata": {},
     "output_type": "execute_result"
    }
   ],
   "source": [
    "# prompt: Run a random forest model on the x train and y train, predict with x-test, and make a dataframe with predictions and the y-test\n",
    "\n",
    "import pandas as pd\n",
    "from sklearn.ensemble import RandomForestClassifier\n",
    "\n",
    "# Initialize the Random Forest model\n",
    "rf_model = RandomForestClassifier()\n",
    "\n",
    "# Fit the model to the training data\n",
    "rf_model.fit(X_train, y_train)\n",
    "\n",
    "# Make predictions on the test set\n",
    "predictions = rf_model.predict(X_test)\n",
    "\n",
    "# Create DataFrame with true labels and predictions\n",
    "rf_results_df = pd.DataFrame({'True Labels': y_test, 'Predictions': predictions})\n",
    "\n",
    "rf_results_df.head()\n"
   ]
  },
  {
   "cell_type": "code",
   "execution_count": 34,
   "metadata": {
    "colab": {
     "base_uri": "https://localhost:8080/",
     "height": 423
    },
    "id": "6aMStGmIuhLi",
    "outputId": "816defb6-299b-47db-b724-5682cc89d5d3"
   },
   "outputs": [
    {
     "data": {
      "text/html": [
       "<div>\n",
       "<style scoped>\n",
       "    .dataframe tbody tr th:only-of-type {\n",
       "        vertical-align: middle;\n",
       "    }\n",
       "\n",
       "    .dataframe tbody tr th {\n",
       "        vertical-align: top;\n",
       "    }\n",
       "\n",
       "    .dataframe thead th {\n",
       "        text-align: right;\n",
       "    }\n",
       "</style>\n",
       "<table border=\"1\" class=\"dataframe\">\n",
       "  <thead>\n",
       "    <tr style=\"text-align: right;\">\n",
       "      <th></th>\n",
       "      <th>True Labels</th>\n",
       "      <th>Predictions</th>\n",
       "      <th>Score</th>\n",
       "    </tr>\n",
       "  </thead>\n",
       "  <tbody>\n",
       "    <tr>\n",
       "      <th>32884</th>\n",
       "      <td>0.0</td>\n",
       "      <td>0.0</td>\n",
       "      <td>0</td>\n",
       "    </tr>\n",
       "    <tr>\n",
       "      <th>3169</th>\n",
       "      <td>0.0</td>\n",
       "      <td>0.0</td>\n",
       "      <td>0</td>\n",
       "    </tr>\n",
       "    <tr>\n",
       "      <th>32206</th>\n",
       "      <td>0.0</td>\n",
       "      <td>0.0</td>\n",
       "      <td>0</td>\n",
       "    </tr>\n",
       "    <tr>\n",
       "      <th>9403</th>\n",
       "      <td>0.0</td>\n",
       "      <td>0.0</td>\n",
       "      <td>0</td>\n",
       "    </tr>\n",
       "    <tr>\n",
       "      <th>14020</th>\n",
       "      <td>0.0</td>\n",
       "      <td>0.0</td>\n",
       "      <td>0</td>\n",
       "    </tr>\n",
       "    <tr>\n",
       "      <th>...</th>\n",
       "      <td>...</td>\n",
       "      <td>...</td>\n",
       "      <td>...</td>\n",
       "    </tr>\n",
       "    <tr>\n",
       "      <th>15908</th>\n",
       "      <td>0.0</td>\n",
       "      <td>0.0</td>\n",
       "      <td>0</td>\n",
       "    </tr>\n",
       "    <tr>\n",
       "      <th>28222</th>\n",
       "      <td>0.0</td>\n",
       "      <td>0.0</td>\n",
       "      <td>0</td>\n",
       "    </tr>\n",
       "    <tr>\n",
       "      <th>14194</th>\n",
       "      <td>0.0</td>\n",
       "      <td>0.0</td>\n",
       "      <td>0</td>\n",
       "    </tr>\n",
       "    <tr>\n",
       "      <th>19764</th>\n",
       "      <td>0.0</td>\n",
       "      <td>0.0</td>\n",
       "      <td>0</td>\n",
       "    </tr>\n",
       "    <tr>\n",
       "      <th>26052</th>\n",
       "      <td>0.0</td>\n",
       "      <td>0.0</td>\n",
       "      <td>0</td>\n",
       "    </tr>\n",
       "  </tbody>\n",
       "</table>\n",
       "<p>12357 rows × 3 columns</p>\n",
       "</div>"
      ],
      "text/plain": [
       "       True Labels  Predictions  Score\n",
       "32884          0.0          0.0      0\n",
       "3169           0.0          0.0      0\n",
       "32206          0.0          0.0      0\n",
       "9403           0.0          0.0      0\n",
       "14020          0.0          0.0      0\n",
       "...            ...          ...    ...\n",
       "15908          0.0          0.0      0\n",
       "28222          0.0          0.0      0\n",
       "14194          0.0          0.0      0\n",
       "19764          0.0          0.0      0\n",
       "26052          0.0          0.0      0\n",
       "\n",
       "[12357 rows x 3 columns]"
      ]
     },
     "execution_count": 34,
     "metadata": {},
     "output_type": "execute_result"
    }
   ],
   "source": [
    "scores = []\n",
    "\n",
    "# Iterate over each row in the DataFrame\n",
    "for index, row in rf_results_df.iterrows():\n",
    "    # Check if the prediction is correct\n",
    "    if row['True Labels'] == 1 and row['Predictions'] == 1:\n",
    "        # If correct, reward the model by 50 units\n",
    "        score = 50\n",
    "    elif row['True Labels'] == 0 and row['Predictions'] == 0:\n",
    "        # If incorrect, penalize the model by 3 units\n",
    "        score = 0\n",
    "    else:\n",
    "      score = -3\n",
    "\n",
    "    # Append the score to the list\n",
    "    scores.append(score)\n",
    "\n",
    "# Add the scores list as a new column to the DataFrame\n",
    "rf_results_df['Score'] = scores\n",
    "\n",
    "# Display the updated DataFrame\n",
    "rf_results_df"
   ]
  },
  {
   "cell_type": "code",
   "execution_count": 35,
   "metadata": {
    "id": "Jwok6oYORoDe"
   },
   "outputs": [],
   "source": [
    "rf_score = rf_results_df['Score'].sum()\n"
   ]
  },
  {
   "cell_type": "markdown",
   "metadata": {
    "id": "OWt9TKeqw7zv"
   },
   "source": [
    "## Scoring Summary (Trial 1)"
   ]
  },
  {
   "cell_type": "code",
   "execution_count": 36,
   "metadata": {
    "colab": {
     "base_uri": "https://localhost:8080/",
     "height": 668
    },
    "id": "AhbeqW3nxDLq",
    "outputId": "8e440c3d-4cb2-4818-ce40-5863337e75f9"
   },
   "outputs": [
    {
     "name": "stderr",
     "output_type": "stream",
     "text": [
      "/var/folders/v0/7r3ppc5x19s0nmby4drzy0wc0000gn/T/ipykernel_35968/1336704776.py:6: FutureWarning: \n",
      "\n",
      "Passing `palette` without assigning `hue` is deprecated and will be removed in v0.14.0. Assign the `x` variable to `hue` and set `legend=False` for the same effect.\n",
      "\n",
      "  sns.barplot(x=models, y=scores, palette='pastel')\n"
     ]
    },
    {
     "data": {
      "text/plain": [
       "Text(0, 0.5, 'Score')"
      ]
     },
     "execution_count": 36,
     "metadata": {},
     "output_type": "execute_result"
    },
    {
     "data": {
      "image/png": "[encoded data removed]",
      "text/plain": [
       "<Figure size 576x432 with 1 Axes>"
      ]
     },
     "metadata": {
      "needs_background": "light"
     },
     "output_type": "display_data"
    }
   ],
   "source": [
    "models = ['Logistic Regression', 'SVM', 'GBM', 'Decision Trees', 'Random Forest']\n",
    "scores = [logit_score, svm_score, gbm_score, tree_score, rf_score]\n",
    "\n",
    "# Create the barplot using Seaborn\n",
    "plt.figure(figsize=(8, 6))\n",
    "sns.barplot(x=models, y=scores, palette='pastel')\n",
    "\n",
    "# Add labels\n",
    "plt.title('Model Performance Comparison')\n",
    "plt.xlabel('Models')\n",
    "plt.ylabel('Score')\n"
   ]
  },
  {
   "cell_type": "markdown",
   "metadata": {
    "id": "4iLcz13RCL69"
   },
   "source": [
    "## Using Grid Search to improve Random Forest"
   ]
  },
  {
   "cell_type": "code",
   "execution_count": 37,
   "metadata": {
    "colab": {
     "base_uri": "https://localhost:8080/",
     "height": 206
    },
    "id": "loqPq0Hj1HI8",
    "outputId": "6988fb5a-46b6-4d10-fd1d-c78ed6440691"
   },
   "outputs": [
    {
     "data": {
      "text/html": [
       "<div>\n",
       "<style scoped>\n",
       "    .dataframe tbody tr th:only-of-type {\n",
       "        vertical-align: middle;\n",
       "    }\n",
       "\n",
       "    .dataframe tbody tr th {\n",
       "        vertical-align: top;\n",
       "    }\n",
       "\n",
       "    .dataframe thead th {\n",
       "        text-align: right;\n",
       "    }\n",
       "</style>\n",
       "<table border=\"1\" class=\"dataframe\">\n",
       "  <thead>\n",
       "    <tr style=\"text-align: right;\">\n",
       "      <th></th>\n",
       "      <th>True Labels</th>\n",
       "      <th>Predictions</th>\n",
       "    </tr>\n",
       "  </thead>\n",
       "  <tbody>\n",
       "    <tr>\n",
       "      <th>32884</th>\n",
       "      <td>0.0</td>\n",
       "      <td>0.0</td>\n",
       "    </tr>\n",
       "    <tr>\n",
       "      <th>3169</th>\n",
       "      <td>0.0</td>\n",
       "      <td>0.0</td>\n",
       "    </tr>\n",
       "    <tr>\n",
       "      <th>32206</th>\n",
       "      <td>0.0</td>\n",
       "      <td>0.0</td>\n",
       "    </tr>\n",
       "    <tr>\n",
       "      <th>9403</th>\n",
       "      <td>0.0</td>\n",
       "      <td>0.0</td>\n",
       "    </tr>\n",
       "    <tr>\n",
       "      <th>14020</th>\n",
       "      <td>0.0</td>\n",
       "      <td>0.0</td>\n",
       "    </tr>\n",
       "  </tbody>\n",
       "</table>\n",
       "</div>"
      ],
      "text/plain": [
       "       True Labels  Predictions\n",
       "32884          0.0          0.0\n",
       "3169           0.0          0.0\n",
       "32206          0.0          0.0\n",
       "9403           0.0          0.0\n",
       "14020          0.0          0.0"
      ]
     },
     "execution_count": 37,
     "metadata": {},
     "output_type": "execute_result"
    }
   ],
   "source": [
    "import pandas as pd\n",
    "from sklearn.model_selection import RandomizedSearchCV\n",
    "from sklearn.ensemble import RandomForestClassifier\n",
    "\n",
    "# Define the Random Forest model\n",
    "rf_model = RandomForestClassifier()\n",
    "\n",
    "# Define the hyperparameter grid\n",
    "param_dist = {\n",
    "    'n_estimators': [10, 50, 100, 200, 300],  # Example values, adjust as needed\n",
    "    'max_depth': [None, 10, 20, 30],  # Example values, adjust as needed\n",
    "    # Add other hyperparameters you want to tune\n",
    "}\n",
    "\n",
    "# Perform Randomized Search with cross-validation\n",
    "random_search = RandomizedSearchCV(estimator=rf_model, param_distributions=param_dist, n_iter=10, cv=5, scoring='accuracy', random_state=42)\n",
    "\n",
    "# Fit the random search to the training data\n",
    "random_search.fit(X_train, y_train)\n",
    "\n",
    "# Get the best parameters found by the random search\n",
    "best_params = random_search.best_params_\n",
    "\n",
    "# Initialize a new Random Forest model with the best parameters\n",
    "optimized_rf_model = RandomForestClassifier(**best_params)\n",
    "\n",
    "# Fit the optimized model to the training data\n",
    "optimized_rf_model.fit(X_train, y_train)\n",
    "\n",
    "# Make predictions on the test set\n",
    "predictions = optimized_rf_model.predict(X_test)\n",
    "\n",
    "# Create a DataFrame with true labels and predictions\n",
    "optimized_rf_results_df = pd.DataFrame({'True Labels': y_test, 'Predictions': predictions})\n",
    "\n",
    "optimized_rf_results_df.head()\n"
   ]
  },
  {
   "cell_type": "code",
   "execution_count": 38,
   "metadata": {
    "colab": {
     "base_uri": "https://localhost:8080/"
    },
    "id": "HQ_WMpZY1Xu0",
    "outputId": "bd707035-fb42-4d16-b9d1-06f0dd4ad82c"
   },
   "outputs": [
    {
     "name": "stdout",
     "output_type": "stream",
     "text": [
      "Optimized Random Forest Model Score: 30146\n"
     ]
    }
   ],
   "source": [
    "\n",
    "scores = []\n",
    "\n",
    "# Iterate over each row in the DataFrame\n",
    "for index, row in optimized_rf_results_df.iterrows():\n",
    "    # Check if the prediction is correct\n",
    "    if row['True Labels'] == 1 and row['Predictions'] == 1:\n",
    "        # If correct, reward the model by 50 units\n",
    "        score = 50\n",
    "    elif row['True Labels'] == 0 and row['Predictions'] == 0:\n",
    "        # If incorrect, penalize the model by 3 units\n",
    "        score = 0\n",
    "    else:\n",
    "      score = -3\n",
    "\n",
    "    # Append the score to the list\n",
    "    scores.append(score)\n",
    "\n",
    "# Add the scores list as a new column to the DataFrame\n",
    "optimized_rf_results_df['Score'] = scores\n",
    "\n",
    "# Display the updated DataFrame\n",
    "optimized_rf_results_df\n",
    "\n",
    "optimized_rf_score = optimized_rf_results_df['Score'].sum()\n",
    "print(\"Optimized Random Forest Model Score:\", optimized_rf_score)\n"
   ]
  },
  {
   "cell_type": "markdown",
   "metadata": {
    "id": "TcVxEN55-hPM"
   },
   "source": [
    "## Using RandomizedSearch for GBM Model"
   ]
  },
  {
   "cell_type": "code",
   "execution_count": 39,
   "metadata": {},
   "outputs": [
    {
     "data": {
      "text/html": [
       "<div>\n",
       "<style scoped>\n",
       "    .dataframe tbody tr th:only-of-type {\n",
       "        vertical-align: middle;\n",
       "    }\n",
       "\n",
       "    .dataframe tbody tr th {\n",
       "        vertical-align: top;\n",
       "    }\n",
       "\n",
       "    .dataframe thead th {\n",
       "        text-align: right;\n",
       "    }\n",
       "</style>\n",
       "<table border=\"1\" class=\"dataframe\">\n",
       "  <thead>\n",
       "    <tr style=\"text-align: right;\">\n",
       "      <th></th>\n",
       "      <th>True Labels</th>\n",
       "      <th>Predictions</th>\n",
       "    </tr>\n",
       "  </thead>\n",
       "  <tbody>\n",
       "    <tr>\n",
       "      <th>32884</th>\n",
       "      <td>0.0</td>\n",
       "      <td>0.0</td>\n",
       "    </tr>\n",
       "    <tr>\n",
       "      <th>3169</th>\n",
       "      <td>0.0</td>\n",
       "      <td>0.0</td>\n",
       "    </tr>\n",
       "    <tr>\n",
       "      <th>32206</th>\n",
       "      <td>0.0</td>\n",
       "      <td>0.0</td>\n",
       "    </tr>\n",
       "    <tr>\n",
       "      <th>9403</th>\n",
       "      <td>0.0</td>\n",
       "      <td>0.0</td>\n",
       "    </tr>\n",
       "    <tr>\n",
       "      <th>14020</th>\n",
       "      <td>0.0</td>\n",
       "      <td>0.0</td>\n",
       "    </tr>\n",
       "  </tbody>\n",
       "</table>\n",
       "</div>"
      ],
      "text/plain": [
       "       True Labels  Predictions\n",
       "32884          0.0          0.0\n",
       "3169           0.0          0.0\n",
       "32206          0.0          0.0\n",
       "9403           0.0          0.0\n",
       "14020          0.0          0.0"
      ]
     },
     "execution_count": 39,
     "metadata": {},
     "output_type": "execute_result"
    }
   ],
   "source": [
    "import pandas as pd\n",
    "from sklearn.ensemble import GradientBoostingClassifier\n",
    "from sklearn.model_selection import RandomizedSearchCV\n",
    "\n",
    "# Initialize the GBM model\n",
    "gbm_model = GradientBoostingClassifier()\n",
    "\n",
    "# Define the hyperparameter grid\n",
    "param_dist = {\n",
    "    'n_estimators': [50, 100, 200, 300],  # Example values, adjust as needed\n",
    "    'learning_rate': [0.01, 0.05, 0.1, 0.2],  # Example values, adjust as needed\n",
    "    'max_depth': [3, 5, 7, 9],  # Example values, adjust as needed\n",
    "    'min_samples_split': [2, 5, 10],  # Example values, adjust as needed\n",
    "    'min_samples_leaf': [1, 2, 4],  # Example values, adjust as needed\n",
    "    'subsample': [0.8, 0.9, 1.0],  # Example values, adjust as needed\n",
    "}\n",
    "\n",
    "# Perform Randomized Search with cross-validation\n",
    "random_search = RandomizedSearchCV(estimator=gbm_model, param_distributions=param_dist, n_iter=10, cv=5, scoring='accuracy', random_state=42)\n",
    "\n",
    "# Fit the random search to the training data\n",
    "random_search.fit(X_train, y_train)\n",
    "\n",
    "# Get the best parameters found by the random search\n",
    "best_params = random_search.best_params_\n",
    "\n",
    "# Initialize a new GBM model with the best parameters\n",
    "optimized_gbm_model = GradientBoostingClassifier(**best_params)\n",
    "\n",
    "# Fit the optimized model to the training data\n",
    "optimized_gbm_model.fit(X_train, y_train)\n",
    "\n",
    "# Make predictions on the test set\n",
    "predictions = optimized_gbm_model.predict(X_test)\n",
    "\n",
    "# Create a DataFrame with true labels and predictions\n",
    "optimized_gbm_results_df = pd.DataFrame({'True Labels': y_test, 'Predictions': predictions})\n",
    "\n",
    "optimized_gbm_results_df.head()\n"
   ]
  },
  {
   "cell_type": "code",
   "execution_count": 41,
   "metadata": {},
   "outputs": [
    {
     "name": "stdout",
     "output_type": "stream",
     "text": [
      "Optimized Gradient Boosting Machine Score: 35056\n"
     ]
    }
   ],
   "source": [
    "scores = []\n",
    "\n",
    "# Iterate over each row in the DataFrame\n",
    "for index, row in optimized_gbm_results_df.iterrows():\n",
    "    # Check if the prediction is correct\n",
    "    if row['True Labels'] == 1 and row['Predictions'] == 1:\n",
    "        # If correct, reward the model by 50 units\n",
    "        score = 50\n",
    "    elif row['True Labels'] == 0 and row['Predictions'] == 0:\n",
    "        # If incorrect, penalize the model by 3 units\n",
    "        score = 0\n",
    "    else:\n",
    "      score = -3\n",
    "\n",
    "    # Append the score to the list\n",
    "    scores.append(score)\n",
    "\n",
    "# Add the scores list as a new column to the DataFrame\n",
    "optimized_gbm_results_df['Score'] = scores\n",
    "\n",
    "# Display the updated DataFrame\n",
    "optimized_gbm_results_df\n",
    "\n",
    "optimized_gbm_score = optimized_gbm_results_df['Score'].sum()\n",
    "print(\"Optimized Gradient Boosting Machine Score:\", optimized_gbm_score)"
   ]
  },
  {
   "cell_type": "markdown",
   "metadata": {},
   "source": [
    "## Scoring Summary (After Optimization):"
   ]
  },
  {
   "cell_type": "code",
   "execution_count": 45,
   "metadata": {},
   "outputs": [
    {
     "name": "stderr",
     "output_type": "stream",
     "text": [
      "/var/folders/v0/7r3ppc5x19s0nmby4drzy0wc0000gn/T/ipykernel_35968/746412701.py:7: FutureWarning: \n",
      "\n",
      "Passing `palette` without assigning `hue` is deprecated and will be removed in v0.14.0. Assign the `x` variable to `hue` and set `legend=False` for the same effect.\n",
      "\n",
      "  sns.barplot(x=models, y=scores, palette='pastel')\n"
     ]
    },
    {
     "data": {
      "text/plain": [
       "Text(0, 0.5, 'Score')"
      ]
     },
     "execution_count": 45,
     "metadata": {},
     "output_type": "execute_result"
    },
    {
     "data": {
      "image/png": "[encoded data removed]",
      "text/plain": [
       "<Figure size 864x720 with 1 Axes>"
      ]
     },
     "metadata": {
      "needs_background": "light"
     },
     "output_type": "display_data"
    }
   ],
   "source": [
    "models = ['Logistic Regression', 'SVM', 'GBM', 'Decision Trees', 'Random Forest', 'Optimized RF',\n",
    "         'Optimized GBM']\n",
    "scores = [logit_score, svm_score, gbm_score, tree_score, rf_score, optimized_rf_score, optimized_gbm_score]\n",
    "\n",
    "# Create the barplot using Seaborn\n",
    "plt.figure(figsize=(12, 10))\n",
    "sns.barplot(x=models, y=scores, palette='pastel')\n",
    "\n",
    "# Add labels\n",
    "plt.title('Model Performance Comparison')\n",
    "plt.xlabel('Models')\n",
    "plt.ylabel('Score')\n"
   ]
  },
  {
   "cell_type": "markdown",
   "metadata": {},
   "source": [
    "### Results:\n"
   ]
  },
  {
   "cell_type": "markdown",
   "metadata": {},
   "source": [
    "After optimization, Gradient Boosting Machines turned out to be the best performing machine learning model, followed by Decision Trees"
   ]
  },
  {
   "cell_type": "code",
   "execution_count": null,
   "metadata": {},
   "outputs": [],
   "source": []
  }
 ],
 "metadata": {
  "colab": {
   "provenance": []
  },
  "kernelspec": {
   "display_name": "Python 3 (ipykernel)",
   "language": "python",
   "name": "python3"
  },
  "language_info": {
   "codemirror_mode": {
    "name": "ipython",
    "version": 3
   },
   "file_extension": ".py",
   "mimetype": "text/x-python",
   "name": "python",
   "nbconvert_exporter": "python",
   "pygments_lexer": "ipython3",
   "version": "3.9.12"
  }
 },
 "nbformat": 4,
 "nbformat_minor": 1
}
